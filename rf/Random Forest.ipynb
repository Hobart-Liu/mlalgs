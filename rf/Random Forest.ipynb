{
 "cells": [
  {
   "cell_type": "markdown",
   "metadata": {},
   "source": [
    "Random Forest 本身并不复杂，就是对数据进行多次采样（含特征采样），重要的是观察这个思路的效果。所以用Notebook来记录多个比对的结果。基本决策器采用Sklearn提供的库。而不再自行编制。<br>\n",
    "\n",
    "- 从样本中用放回采样(Uniformly)选出n个样本\n",
    "- 从所有属性中随机选择k个属性，构建决策器\n",
    "- 重复以上2步m次，即构建了m棵决策树\n",
    "- 通过投票表决结果。\n",
    "\n",
    "我们尝试使用一个多维度的数据集，声呐判定mine/rock的数据集 sonar_all_data.csv. 数据集中最后一列M表示mine，R表示rock.\n",
    "\n",
    "一下是数据样例, 一共60个特征和1个标签<br>\n",
    "0.0200,0.0371,0.0428,0.0207,0.0954,0.0986,0.1539,0.1601,0.3109,0.2111,\n",
    "0.1609,0.1582,0.2238,0.0645,0.0660,0.2273,0.3100,0.2999,0.5078,0.4797,\n",
    "0.5783,0.5071,0.4328,0.5550,0.6711,0.6415,0.7104,0.8080,0.6791,0.3857,\n",
    "0.1307,0.2604,0.5121,0.7547,0.8537,0.8507,0.6692,0.6097,0.4943,0.2744,\n",
    "0.0510,0.2834,0.2825,0.4256,0.2641,0.1386,0.1051,0.1343,0.0383,0.0324,\n",
    "0.0232,0.0027,0.0065,0.0159,0.0072,0.0167,0.0180,0.0084,0.0090,0.0032,R\n",
    "\n",
    "文件可以在https://archive.ics.uci.edu/ml/datasets/Connectionist+Bench+(Sonar,+Mines+vs.+Rocks) 上下载. 本实验中文件名做了改变，(txt->csv)，内容没有变化。\n",
    "\n"
   ]
  },
  {
   "cell_type": "code",
   "execution_count": 233,
   "metadata": {},
   "outputs": [],
   "source": [
    "import pandas as pd\n",
    "import numpy as np\n",
    "import matplotlib.pyplot as plt\n",
    "%matplotlib inline"
   ]
  },
  {
   "cell_type": "markdown",
   "metadata": {},
   "source": [
    "### 读取数据，shuffle, 转换标签M==>1.0, R==>0.0, 设定数据格式为float"
   ]
  },
  {
   "cell_type": "code",
   "execution_count": 234,
   "metadata": {},
   "outputs": [
    {
     "name": "stdout",
     "output_type": "stream",
     "text": [
      "(208, 61)\n"
     ]
    }
   ],
   "source": [
    "filename = \"sonar_all_data.csv\"\n",
    "df = pd.read_csv(filename, index_col=None, header=None)\n",
    "print(df.shape)"
   ]
  },
  {
   "cell_type": "code",
   "execution_count": 235,
   "metadata": {},
   "outputs": [],
   "source": [
    "colnames = ['c' + str(i) for i in range(60)]\n",
    "colnames.append('type')\n",
    "df = pd.read_csv(filename, index_col=None, header=None, names=colnames)\n",
    "df = df.sample(frac=1).reset_index(drop=True)\n",
    "# df.head()"
   ]
  },
  {
   "cell_type": "code",
   "execution_count": 236,
   "metadata": {},
   "outputs": [],
   "source": [
    "df['lbl']=1.0\n",
    "df.loc[df['type']=='R', 'lbl'] = 0.0\n",
    "# df.head()"
   ]
  },
  {
   "cell_type": "code",
   "execution_count": 237,
   "metadata": {
    "scrolled": true
   },
   "outputs": [
    {
     "name": "stdout",
     "output_type": "stream",
     "text": [
      "<class 'numpy.float64'> <class 'numpy.float64'>\n",
      "(208, 61)\n"
     ]
    }
   ],
   "source": [
    "df.drop('type', axis=1, inplace=True)\n",
    "df.astype(np.float32, inplace=True)\n",
    "print(type(df.iloc[0]['c8']),type(df.iloc[0]['lbl']))\n",
    "print(df.shape)"
   ]
  },
  {
   "cell_type": "code",
   "execution_count": 238,
   "metadata": {},
   "outputs": [
    {
     "data": {
      "text/html": [
       "<div>\n",
       "<style>\n",
       "    .dataframe thead tr:only-child th {\n",
       "        text-align: right;\n",
       "    }\n",
       "\n",
       "    .dataframe thead th {\n",
       "        text-align: left;\n",
       "    }\n",
       "\n",
       "    .dataframe tbody tr th {\n",
       "        vertical-align: top;\n",
       "    }\n",
       "</style>\n",
       "<table border=\"1\" class=\"dataframe\">\n",
       "  <thead>\n",
       "    <tr style=\"text-align: right;\">\n",
       "      <th></th>\n",
       "      <th>c0</th>\n",
       "      <th>c1</th>\n",
       "      <th>c2</th>\n",
       "      <th>c3</th>\n",
       "      <th>c4</th>\n",
       "      <th>c5</th>\n",
       "      <th>c6</th>\n",
       "      <th>c7</th>\n",
       "      <th>c8</th>\n",
       "      <th>c9</th>\n",
       "      <th>...</th>\n",
       "      <th>c51</th>\n",
       "      <th>c52</th>\n",
       "      <th>c53</th>\n",
       "      <th>c54</th>\n",
       "      <th>c55</th>\n",
       "      <th>c56</th>\n",
       "      <th>c57</th>\n",
       "      <th>c58</th>\n",
       "      <th>c59</th>\n",
       "      <th>lbl</th>\n",
       "    </tr>\n",
       "  </thead>\n",
       "  <tbody>\n",
       "    <tr>\n",
       "      <th>0</th>\n",
       "      <td>0.0522</td>\n",
       "      <td>0.0437</td>\n",
       "      <td>0.0180</td>\n",
       "      <td>0.0292</td>\n",
       "      <td>0.0351</td>\n",
       "      <td>0.1171</td>\n",
       "      <td>0.1257</td>\n",
       "      <td>0.1178</td>\n",
       "      <td>0.1258</td>\n",
       "      <td>0.2529</td>\n",
       "      <td>...</td>\n",
       "      <td>0.0160</td>\n",
       "      <td>0.0029</td>\n",
       "      <td>0.0051</td>\n",
       "      <td>0.0062</td>\n",
       "      <td>0.0089</td>\n",
       "      <td>0.0140</td>\n",
       "      <td>0.0138</td>\n",
       "      <td>0.0077</td>\n",
       "      <td>0.0031</td>\n",
       "      <td>1.0</td>\n",
       "    </tr>\n",
       "    <tr>\n",
       "      <th>1</th>\n",
       "      <td>0.0368</td>\n",
       "      <td>0.0279</td>\n",
       "      <td>0.0103</td>\n",
       "      <td>0.0566</td>\n",
       "      <td>0.0759</td>\n",
       "      <td>0.0679</td>\n",
       "      <td>0.0970</td>\n",
       "      <td>0.1473</td>\n",
       "      <td>0.2164</td>\n",
       "      <td>0.2544</td>\n",
       "      <td>...</td>\n",
       "      <td>0.0105</td>\n",
       "      <td>0.0024</td>\n",
       "      <td>0.0018</td>\n",
       "      <td>0.0057</td>\n",
       "      <td>0.0092</td>\n",
       "      <td>0.0009</td>\n",
       "      <td>0.0086</td>\n",
       "      <td>0.0110</td>\n",
       "      <td>0.0052</td>\n",
       "      <td>1.0</td>\n",
       "    </tr>\n",
       "    <tr>\n",
       "      <th>2</th>\n",
       "      <td>0.0392</td>\n",
       "      <td>0.0108</td>\n",
       "      <td>0.0267</td>\n",
       "      <td>0.0257</td>\n",
       "      <td>0.0410</td>\n",
       "      <td>0.0491</td>\n",
       "      <td>0.1053</td>\n",
       "      <td>0.1690</td>\n",
       "      <td>0.2105</td>\n",
       "      <td>0.2471</td>\n",
       "      <td>...</td>\n",
       "      <td>0.0083</td>\n",
       "      <td>0.0080</td>\n",
       "      <td>0.0026</td>\n",
       "      <td>0.0079</td>\n",
       "      <td>0.0042</td>\n",
       "      <td>0.0071</td>\n",
       "      <td>0.0044</td>\n",
       "      <td>0.0022</td>\n",
       "      <td>0.0014</td>\n",
       "      <td>1.0</td>\n",
       "    </tr>\n",
       "    <tr>\n",
       "      <th>3</th>\n",
       "      <td>0.0096</td>\n",
       "      <td>0.0404</td>\n",
       "      <td>0.0682</td>\n",
       "      <td>0.0688</td>\n",
       "      <td>0.0887</td>\n",
       "      <td>0.0932</td>\n",
       "      <td>0.0955</td>\n",
       "      <td>0.2140</td>\n",
       "      <td>0.2546</td>\n",
       "      <td>0.2952</td>\n",
       "      <td>...</td>\n",
       "      <td>0.0237</td>\n",
       "      <td>0.0078</td>\n",
       "      <td>0.0144</td>\n",
       "      <td>0.0170</td>\n",
       "      <td>0.0012</td>\n",
       "      <td>0.0109</td>\n",
       "      <td>0.0036</td>\n",
       "      <td>0.0043</td>\n",
       "      <td>0.0018</td>\n",
       "      <td>1.0</td>\n",
       "    </tr>\n",
       "    <tr>\n",
       "      <th>4</th>\n",
       "      <td>0.1150</td>\n",
       "      <td>0.1163</td>\n",
       "      <td>0.0866</td>\n",
       "      <td>0.0358</td>\n",
       "      <td>0.0232</td>\n",
       "      <td>0.1267</td>\n",
       "      <td>0.2417</td>\n",
       "      <td>0.2661</td>\n",
       "      <td>0.4346</td>\n",
       "      <td>0.5378</td>\n",
       "      <td>...</td>\n",
       "      <td>0.0099</td>\n",
       "      <td>0.0065</td>\n",
       "      <td>0.0085</td>\n",
       "      <td>0.0166</td>\n",
       "      <td>0.0110</td>\n",
       "      <td>0.0190</td>\n",
       "      <td>0.0141</td>\n",
       "      <td>0.0068</td>\n",
       "      <td>0.0086</td>\n",
       "      <td>1.0</td>\n",
       "    </tr>\n",
       "  </tbody>\n",
       "</table>\n",
       "<p>5 rows × 61 columns</p>\n",
       "</div>"
      ],
      "text/plain": [
       "       c0      c1      c2      c3      c4      c5      c6      c7      c8  \\\n",
       "0  0.0522  0.0437  0.0180  0.0292  0.0351  0.1171  0.1257  0.1178  0.1258   \n",
       "1  0.0368  0.0279  0.0103  0.0566  0.0759  0.0679  0.0970  0.1473  0.2164   \n",
       "2  0.0392  0.0108  0.0267  0.0257  0.0410  0.0491  0.1053  0.1690  0.2105   \n",
       "3  0.0096  0.0404  0.0682  0.0688  0.0887  0.0932  0.0955  0.2140  0.2546   \n",
       "4  0.1150  0.1163  0.0866  0.0358  0.0232  0.1267  0.2417  0.2661  0.4346   \n",
       "\n",
       "       c9 ...      c51     c52     c53     c54     c55     c56     c57  \\\n",
       "0  0.2529 ...   0.0160  0.0029  0.0051  0.0062  0.0089  0.0140  0.0138   \n",
       "1  0.2544 ...   0.0105  0.0024  0.0018  0.0057  0.0092  0.0009  0.0086   \n",
       "2  0.2471 ...   0.0083  0.0080  0.0026  0.0079  0.0042  0.0071  0.0044   \n",
       "3  0.2952 ...   0.0237  0.0078  0.0144  0.0170  0.0012  0.0109  0.0036   \n",
       "4  0.5378 ...   0.0099  0.0065  0.0085  0.0166  0.0110  0.0190  0.0141   \n",
       "\n",
       "      c58     c59  lbl  \n",
       "0  0.0077  0.0031  1.0  \n",
       "1  0.0110  0.0052  1.0  \n",
       "2  0.0022  0.0014  1.0  \n",
       "3  0.0043  0.0018  1.0  \n",
       "4  0.0068  0.0086  1.0  \n",
       "\n",
       "[5 rows x 61 columns]"
      ]
     },
     "execution_count": 238,
     "metadata": {},
     "output_type": "execute_result"
    }
   ],
   "source": [
    "df.head()"
   ]
  },
  {
   "cell_type": "markdown",
   "metadata": {},
   "source": [
    "### 70条记录做验证，剩下的做训练"
   ]
  },
  {
   "cell_type": "code",
   "execution_count": 239,
   "metadata": {},
   "outputs": [],
   "source": [
    "feature_names = ['c'+str(i) for i in range(60)]\n",
    "label_name = ['lbl']\n",
    "test_x = df[:70][feature_names].get_values()\n",
    "test_y = df[:70][label_name].get_values().ravel()\n",
    "train_x = df[70:][feature_names].get_values()\n",
    "train_y = df[70:][label_name].get_values().ravel()"
   ]
  },
  {
   "cell_type": "markdown",
   "metadata": {},
   "source": [
    "#### DecisionTreeClassifier/SVM/LR for complete dataset"
   ]
  },
  {
   "cell_type": "code",
   "execution_count": 240,
   "metadata": {},
   "outputs": [
    {
     "data": {
      "text/plain": [
       "0.75714285714285712"
      ]
     },
     "execution_count": 240,
     "metadata": {},
     "output_type": "execute_result"
    }
   ],
   "source": [
    "from sklearn.tree import DecisionTreeClassifier\n",
    "clf = DecisionTreeClassifier()\n",
    "clf.fit(train_x, train_y)\n",
    "clf.score(test_x, test_y)"
   ]
  },
  {
   "cell_type": "code",
   "execution_count": 241,
   "metadata": {},
   "outputs": [
    {
     "name": "stdout",
     "output_type": "stream",
     "text": [
      "0.7571428571428571\n"
     ]
    }
   ],
   "source": [
    "# 这段代码不重要，就是验证一下Score函数\n",
    "count = 0\n",
    "for x, y in zip(test_x, test_y):\n",
    "    y_ = clf.predict([x])\n",
    "    if y_ == y: count += 1\n",
    "print(count/len(test_y))"
   ]
  },
  {
   "cell_type": "code",
   "execution_count": 242,
   "metadata": {},
   "outputs": [
    {
     "data": {
      "text/plain": [
       "0.59999999999999998"
      ]
     },
     "execution_count": 242,
     "metadata": {},
     "output_type": "execute_result"
    }
   ],
   "source": [
    "del clf\n",
    "from sklearn import svm\n",
    "clf = svm.SVC()\n",
    "clf.fit(train_x, train_y.ravel())\n",
    "clf.score(test_x, test_y.ravel())"
   ]
  },
  {
   "cell_type": "code",
   "execution_count": 243,
   "metadata": {},
   "outputs": [
    {
     "data": {
      "text/plain": [
       "0.84285714285714286"
      ]
     },
     "execution_count": 243,
     "metadata": {},
     "output_type": "execute_result"
    }
   ],
   "source": [
    "del clf\n",
    "clf = svm.NuSVC()\n",
    "clf.fit(train_x, train_y.ravel())\n",
    "clf.score(test_x, test_y.ravel())"
   ]
  },
  {
   "cell_type": "code",
   "execution_count": 244,
   "metadata": {},
   "outputs": [
    {
     "data": {
      "text/plain": [
       "0.7857142857142857"
      ]
     },
     "execution_count": 244,
     "metadata": {},
     "output_type": "execute_result"
    }
   ],
   "source": [
    "del clf\n",
    "clf = svm.LinearSVC()\n",
    "clf.fit(train_x, train_y.ravel())\n",
    "clf.score(test_x, test_y.ravel())"
   ]
  },
  {
   "cell_type": "code",
   "execution_count": 245,
   "metadata": {},
   "outputs": [
    {
     "data": {
      "text/plain": [
       "0.81428571428571428"
      ]
     },
     "execution_count": 245,
     "metadata": {},
     "output_type": "execute_result"
    }
   ],
   "source": [
    "del clf\n",
    "from sklearn.linear_model import SGDClassifier\n",
    "clf = SGDClassifier(max_iter=600, tol=1e-3)\n",
    "clf.fit(train_x, train_y.ravel())\n",
    "clf.score(test_x, test_y.ravel())"
   ]
  },
  {
   "cell_type": "markdown",
   "metadata": {},
   "source": [
    "### Random Forest\n",
    "- 从样本中用放回采样(Uniformly)选出n个样本\n",
    "- 从所有属性中随机选择k个属性，构建决策器\n",
    "- 重复以上2步m次，即构建了m棵决策树\n",
    "- 通过投票表决结果。"
   ]
  },
  {
   "cell_type": "code",
   "execution_count": 246,
   "metadata": {},
   "outputs": [
    {
     "data": {
      "text/plain": [
       "[sklearn.tree.tree.DecisionTreeClassifier,\n",
       " sklearn.svm.classes.SVC,\n",
       " sklearn.svm.classes.NuSVC,\n",
       " sklearn.svm.classes.LinearSVC,\n",
       " sklearn.linear_model.stochastic_gradient.SGDClassifier]"
      ]
     },
     "execution_count": 246,
     "metadata": {},
     "output_type": "execute_result"
    }
   ],
   "source": [
    "clf_candidates=[DecisionTreeClassifier, \n",
    "                svm.SVC, \n",
    "                svm.NuSVC, \n",
    "                svm.LinearSVC, \n",
    "                SGDClassifier]\n",
    "clf_candidates"
   ]
  },
  {
   "cell_type": "code",
   "execution_count": 247,
   "metadata": {},
   "outputs": [
    {
     "name": "stdout",
     "output_type": "stream",
     "text": [
      "<class 'sklearn.svm.classes.LinearSVC'>\n",
      "<class 'sklearn.svm.classes.LinearSVC'>\n",
      "<class 'sklearn.linear_model.stochastic_gradient.SGDClassifier'>\n"
     ]
    }
   ],
   "source": [
    "import sklearn\n",
    "\n",
    "m = 3\n",
    "votes = [1/m] * m\n",
    "\n",
    "num_train = len(test_y)\n",
    "num_feat  = len(test_x[0])\n",
    "\n",
    "n = int(num_train * 0.6)\n",
    "k = int(np.sqrt(num_feat))\n",
    "\n",
    "index_of_train_data = np.arange(num_train)\n",
    "index_of_train_feat = np.arange(num_feat)\n",
    "\n",
    "clfs = []\n",
    "feats = []\n",
    "\n",
    "for i in range(m):\n",
    "    clf = None\n",
    "    np.random.shuffle(index_of_train_data)\n",
    "    np.random.shuffle(index_of_train_feat)\n",
    "    row_idx = index_of_train_data[:n]\n",
    "    feat_idx = index_of_train_feat[:k]\n",
    "    sub_test_x = test_x[row_idx,:][:, feat_idx]\n",
    "    sub_test_y = test_y[row_idx]\n",
    "    func = np.random.choice(clf_candidates)\n",
    "    print(func)\n",
    "    if func==sklearn.linear_model.stochastic_gradient.SGDClassifier:\n",
    "        clf = func(max_iter=600, tol=1e-3)\n",
    "    else:\n",
    "        clf = func()\n",
    "    clf.fit(sub_test_x, sub_test_y)\n",
    "    clfs.append(clf)\n",
    "    feats.append(feat_idx)\n",
    "    del clf"
   ]
  },
  {
   "cell_type": "code",
   "execution_count": 248,
   "metadata": {},
   "outputs": [
    {
     "data": {
      "text/plain": [
       "array([ 0.,  0.,  0.,  0.,  0.,  0.,  0.,  0.,  0.,  0.,  0.,  0.,  0.,\n",
       "        0.,  0.,  0.,  0.,  0.,  0.,  0.,  0.,  0.,  0.,  0.,  0.,  0.,\n",
       "        0.,  0.,  0.,  0.,  0.,  0.,  0.,  0.,  0.,  0.,  0.,  0.,  0.,\n",
       "        0.,  0.,  0.,  0.,  0.,  0.,  0.,  0.,  0.,  0.,  0.,  0.,  0.,\n",
       "        0.,  0.,  0.,  0.,  0.,  0.,  0.,  0.,  0.,  0.,  0.,  0.,  0.,\n",
       "        0.,  0.,  0.,  0.,  0.])"
      ]
     },
     "execution_count": 248,
     "metadata": {},
     "output_type": "execute_result"
    }
   ],
   "source": [
    "predict = np.zeros(test_y.shape)\n",
    "predict   "
   ]
  },
  {
   "cell_type": "code",
   "execution_count": 249,
   "metadata": {},
   "outputs": [],
   "source": [
    "for clf, feat, vote in zip(clfs, feats, votes):\n",
    "    predict += clf.predict(test_x[:,feat])*vote\n",
    "      "
   ]
  },
  {
   "cell_type": "code",
   "execution_count": 250,
   "metadata": {},
   "outputs": [
    {
     "name": "stdout",
     "output_type": "stream",
     "text": [
      "0.528571428571\n"
     ]
    }
   ],
   "source": [
    "predict[predict>0.5] = 1.0\n",
    "predict[predict<=0.5] = 0.0\n",
    "print(sum(predict==test_y)/len(test_y))"
   ]
  },
  {
   "cell_type": "code",
   "execution_count": null,
   "metadata": {},
   "outputs": [],
   "source": []
  }
 ],
 "metadata": {
  "kernelspec": {
   "display_name": "Python 3",
   "language": "python",
   "name": "python3"
  },
  "language_info": {
   "codemirror_mode": {
    "name": "ipython",
    "version": 3
   },
   "file_extension": ".py",
   "mimetype": "text/x-python",
   "name": "python",
   "nbconvert_exporter": "python",
   "pygments_lexer": "ipython3",
   "version": "3.6.0"
  }
 },
 "nbformat": 4,
 "nbformat_minor": 2
}
