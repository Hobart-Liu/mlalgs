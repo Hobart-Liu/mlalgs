{
 "cells": [
  {
   "cell_type": "markdown",
   "metadata": {},
   "source": [
    "### SVM 线性可分 (hard margin)\n",
    "\n",
    "\n",
    "该实例主要解释如何在SVM hard margin方案内通过使用cvxopt来完成二次规划的问题。 \n",
    "代码本身并不是自解释的，所以借用ipynb注释求解过程。\n",
    "\n",
    "代码主要参考了： http://www.galoreinoso.com/2016/04/05/code-python-svm-binary-classifier/  <br>\n",
    "原理主要参考：李航的统计学习方法,以及在线视频：https://www.youtube.com/watch?v=eHsErlPJWUU&list=PLnIDYuXHkit4LcWjDe0EwlE57WiGlBs08&index=14"
   ]
  },
  {
   "cell_type": "markdown",
   "metadata": {},
   "source": [
    "我们要用到解决二次规划问题的Python包，cxvopt<br>\n",
    "**Note：** 利用二次规划的方式需要构建较大的矩阵，对于数据量 > 10000 的场景下，不太实用，这里只是感受一下SVM hard-margin的数学解法。"
   ]
  },
  {
   "cell_type": "code",
   "execution_count": 120,
   "metadata": {},
   "outputs": [],
   "source": [
    "%matplotlib inline\n",
    "import matplotlib.pyplot as plt\n",
    "import numpy as np\n",
    "import cvxopt\n",
    "import seaborn as sns"
   ]
  },
  {
   "cell_type": "markdown",
   "metadata": {},
   "source": [
    "代码分成3块，1)数据的生成，2)SVM分类，以及二次规划（重点) 3)图示分类结果"
   ]
  },
  {
   "cell_type": "markdown",
   "metadata": {},
   "source": [
    "#### 数据生成\n",
    "我们先生成2个数据点作为划分线。然后产生20个随机点(x1_input, x2_input)，按划分线判定其标签为+1还是-1(output)\n",
    "x1, x2 分别代表一个点的2个维度。**(point0=[x1[0], x2[0]])**"
   ]
  },
  {
   "cell_type": "code",
   "execution_count": 121,
   "metadata": {},
   "outputs": [
    {
     "data": {
      "text/plain": [
       "<matplotlib.collections.PathCollection at 0x108b57f60>"
      ]
     },
     "execution_count": 121,
     "metadata": {},
     "output_type": "execute_result"
    },
    {
     "data": {
      "image/png": "[encoded data removed]",
      "text/plain": [
       "<matplotlib.figure.Figure at 0x108a8fa20>"
      ]
     },
     "metadata": {},
     "output_type": "display_data"
    }
   ],
   "source": [
    "# Generating two points to construct the line\n",
    "x1_targetf = np.random.uniform(-1,1,2)\n",
    "x2_targetf = np.random.uniform(-1,1,2)\n",
    " \n",
    "# Computing the slope m and the y-intercept b\n",
    "m = (x2_targetf[1]-x2_targetf[0])/(x1_targetf[1]-x1_targetf[0])\n",
    "b_target = x2_targetf[0] - m * x1_targetf[0]\n",
    " \n",
    "# Computing the x2 value of the extremities of the line knowing that the x1\n",
    "# values range is [-1, 1]\n",
    "x2_lefttargetf = m*(-1) + b_target\n",
    "x2_righttargetf = m*(1) + b_target\n",
    " \n",
    "# Plot of target function\n",
    "fig1 = plt.figure()\n",
    "ax1 = fig1.add_subplot(111)\n",
    "plt.plot([-1,1], [x2_lefttargetf,x2_righttargetf])\n",
    "plt.axis((-1,1,-1,1))\n",
    "\n",
    "# Generating N training data points\n",
    "N = 20\n",
    "x1_input = np.random.uniform(-1,1,N)\n",
    "x2_input = np.random.uniform(-1,1,N)\n",
    " \n",
    "y_output = []\n",
    " \n",
    "# Computing the y_output (class or category) from the target function\n",
    "for index, each in enumerate(x1_input):\n",
    "    # Computing the value of x2 if it was on the line\n",
    "    x2_line = m*(each) + b_target\n",
    " \n",
    "    # Checking the value of x2 corresponding to that x1 with the x2 from the line\n",
    "    # Assigning a -1 or +1 class to it\n",
    "    if x2_input[index] > x2_line:\n",
    "        y_output.append(-1.0)\n",
    "    else:\n",
    "        y_output.append(1.0)\n",
    " \n",
    "# Plotting the training points\n",
    "plt.scatter(\n",
    "    x1_input,\n",
    "    x2_input,\n",
    "    c=y_output,\n",
    "    cmap='bwr',\n",
    "    alpha=1,\n",
    "    s=100,\n",
    "    edgecolors='k'\n",
    "    )\n"
   ]
  },
  {
   "cell_type": "markdown",
   "metadata": {},
   "source": [
    "#### 完成分类\n",
    "\n",
    "这里我们要完成的最主要的工作是求解<br>\n",
    "\n",
    "$$\\min_{\\alpha} \\frac{1}{2}\\sum_{i,j=1}^{N}\\alpha_i\\alpha_jy_iy_j(x_i\\cdot x_j) - \\sum_{i=1}^{N}\\alpha_i$$\n",
    "\n",
    "$$s.t. \\sum_{i=1}^{N}\\alpha_iy_i = 0$$\n",
    "\n",
    "$$\\alpha_i \\geqslant 0, i = 1, 2, ..., N$$"
   ]
  },
  {
   "cell_type": "markdown",
   "metadata": {},
   "source": [
    "cvxopt 关于二次规划的调用公式为：http://cvxopt.org/userguide/coneprog.html#quadratic-programming<br>\n",
    "\n",
    "$$ \\min_{x} \\frac{1}{2}x^TPx + q^Tx$$\n",
    "$$ s.t. Gx \\leq h $$\n",
    "$$ Ax = b$$\n",
    "\n"
   ]
  },
  {
   "cell_type": "markdown",
   "metadata": {},
   "source": [
    "该公式中，已知量为$y_iy_j(x_i\\cdot x_j)$, 未知量为$\\alpha_i\\alpha_j$, 我们需要构造P, q, G, h, A 和 b "
   ]
  },
  {
   "cell_type": "markdown",
   "metadata": {},
   "source": [
    "\n",
    "P, q 的构造：\n",
    "\n",
    "$$ \\min_\\alpha \\frac{1}{2} \\alpha^T P \\alpha + (-1^T) \\alpha $$\n",
    "\n",
    "$$ \n",
    "  \\min_\\alpha \\frac{1}{2} \\alpha^T \n",
    "  \\left[\n",
    "  \\begin{matrix}\n",
    "   y_1y_1x_1^Tx_1 & y_1y_2x_1^Tx_2 & ... & y_1y_Nx_1^Tx_N \\\\\n",
    "   y_2y_1x_2^Tx_1 & y_2y_2x_2^Tx_2 & ... & y_2y_Nx_2^Tx_N \\\\\n",
    "    ...           &    ...         & ... &   ...          \\\\\n",
    "   y_Ny_1x_N^Tx_1 & y_Ny_2x_N^Tx_2 & ... & y_Ny_Nx_N^Tx_N \n",
    "  \\end{matrix}\n",
    "  \\right] \n",
    "  \\alpha + (-1^T) \\alpha\n",
    "$$\n",
    "\n"
   ]
  },
  {
   "cell_type": "markdown",
   "metadata": {},
   "source": [
    "P matrix is constructed by doing the outer product between the category label vector and itself, then multiplying it with the Gram matrix of the N data points. "
   ]
  },
  {
   "cell_type": "code",
   "execution_count": 122,
   "metadata": {},
   "outputs": [],
   "source": [
    "X_svm = np.column_stack((x1_input, x2_input))\n",
    "y_output = np.array(y_output)"
   ]
  },
  {
   "cell_type": "markdown",
   "metadata": {},
   "source": [
    "这里，X_svm的存储格式是\n",
    "$\\left[\n",
    " \\begin{matrix}\n",
    "  --- x_1 ---, \\\\ \n",
    "  --- x_2 ---, \\\\\n",
    "  ...          \\\\\n",
    "  --- x_N ---\n",
    "  \\end{matrix}\n",
    "  \\right]\n",
    "$\n",
    "相当于标准定义上的已转置的X，<br>所以在构造gram matrix的时候，不是$x^Tx$, 而是$x x^T$"
   ]
  },
  {
   "cell_type": "code",
   "execution_count": 123,
   "metadata": {},
   "outputs": [
    {
     "name": "stdout",
     "output_type": "stream",
     "text": [
      "(20, 20)\n"
     ]
    }
   ],
   "source": [
    "# Build N*N Gram matrix\n",
    "K = np.dot(X_svm, X_svm.T)\n",
    "print(K.shape)\n",
    "#print(K)"
   ]
  },
  {
   "cell_type": "markdown",
   "metadata": {},
   "source": [
    "一下代码是参考原始文件，检查gram matrix是否正确生成。"
   ]
  },
  {
   "cell_type": "code",
   "execution_count": 124,
   "metadata": {},
   "outputs": [],
   "source": [
    "# Initializing the N x N Gram matrix\n",
    "K_orig = np.zeros(shape = (\n",
    "    len(x1_input),\n",
    "    len(x1_input)\n",
    "    ))\n",
    " \n",
    "# Computing the inner products for each pair of vectors\n",
    "for i in range(len(x1_input)):\n",
    "    for j in range(len(x1_input)):\n",
    "        K_orig[i,j] = np.dot(X_svm[i], X_svm[j])\n",
    "        \n",
    "#K_orig"
   ]
  },
  {
   "cell_type": "code",
   "execution_count": 125,
   "metadata": {},
   "outputs": [
    {
     "name": "stdout",
     "output_type": "stream",
     "text": [
      "(20, 20)\n"
     ]
    }
   ],
   "source": [
    "y_out = np.outer(y_output, y_output)\n",
    "print(y_out.shape)\n",
    "#y_out"
   ]
  },
  {
   "cell_type": "code",
   "execution_count": 126,
   "metadata": {},
   "outputs": [],
   "source": [
    "# note, cvxopt.matrix 中[0] 是vector (列信息），这里转来转去的挺搞的。p的生成就是用了这个特性。\n",
    "P = cvxopt.matrix(y_out*K)\n",
    "q = cvxopt.matrix(np.ones(len(x1_input)) * -1)\n",
    "# print(P)\n",
    "# print(q)"
   ]
  },
  {
   "cell_type": "markdown",
   "metadata": {},
   "source": [
    "我们接下来解决G, h <br>\n",
    "$ \\alpha_i \\leqslant 0, i = 1, 2, ..., N $  \n",
    "这里$\\alpha_i$的限制条件实际是$0\\leqslant \\alpha_i \\leqslant \\infty$<br>\n",
    "应用$Gx \\leqslant h$,则要对$\\alpha$进行转换<br>\n",
    "$\\alpha_i \\leqslant \\infty$ 以及 $-\\alpha_i \\leqslant 0$\n",
    "转换成矩阵表达就是\n",
    "$\\left[\n",
    " \\begin{matrix}\n",
    "    -1 \\\\\n",
    "    1\n",
    " \\end{matrix}\n",
    " \\right]  \\alpha_i\n",
    " \\leqslant \n",
    " \\left[\n",
    " \\begin{matrix}\n",
    "    0       \\\\\n",
    "    999999.0\n",
    " \\end{matrix}\n",
    " \\right]\n",
    "$<br>\n",
    "\n",
    "G 是 $\\mathbf I$ 和 $-\\mathbf I$叠加， 行数应该是 2N"
   ]
  },
  {
   "cell_type": "code",
   "execution_count": 127,
   "metadata": {},
   "outputs": [
    {
     "name": "stdout",
     "output_type": "stream",
     "text": [
      "(40, 20) (40, 1)\n"
     ]
    }
   ],
   "source": [
    "G = cvxopt.matrix(np.vstack([\n",
    "    np.eye(len(x1_input)) * -1,\n",
    "    np.eye(len(x1_input))\n",
    "    ]))\n",
    "h = cvxopt.matrix(np.hstack([\n",
    "    np.zeros(len(x1_input)),\n",
    "    np.ones(len(x1_input)) * 999999999.0\n",
    "    ]))\n",
    "\n",
    "print(G.size, h.size)\n",
    "# print(G)\n",
    "# print(h)"
   ]
  },
  {
   "cell_type": "markdown",
   "metadata": {},
   "source": [
    "A和b就比较容易解决\n",
    "$Ax=b$ <br>\n",
    "$s.t. \\sum_{i=1}^{N}\\alpha_iy_i = 0$<br>\n",
    "A就是$y_i$, b就是0"
   ]
  },
  {
   "cell_type": "code",
   "execution_count": 128,
   "metadata": {},
   "outputs": [
    {
     "name": "stdout",
     "output_type": "stream",
     "text": [
      "(1, 20) (1, 1)\n"
     ]
    }
   ],
   "source": [
    "A = cvxopt.matrix(y_output, (1,len(x1_input)))\n",
    "b = cvxopt.matrix(0.0)\n",
    "print(A.size, b.size)"
   ]
  },
  {
   "cell_type": "code",
   "execution_count": 129,
   "metadata": {},
   "outputs": [
    {
     "name": "stdout",
     "output_type": "stream",
     "text": [
      "     pcost       dcost       gap    pres   dres\n",
      " 0:  6.6069e+17 -6.8870e+18  1e+19  2e-01  1e-07\n",
      " 1:  3.4821e+17 -6.7662e+17  1e+18  1e-02  6e+00\n",
      " 2:  7.7577e+16 -1.1208e+17  2e+17  1e-03  5e-01\n",
      " 3:  1.1761e+16 -1.4563e+16  3e+16  7e-09  5e-08\n",
      " 4:  1.7002e+15 -1.9184e+15  4e+15  3e-08  2e-08\n",
      " 5:  2.4431e+14 -2.7142e+14  5e+14  1e-08  7e-09\n",
      " 6:  3.5042e+13 -3.8659e+13  7e+13  1e-09  2e-09\n",
      " 7:  5.0232e+12 -5.5285e+12  1e+13  3e-09  9e-10\n",
      " 8:  7.1991e+11 -7.9161e+11  2e+12  8e-10  5e-10\n",
      " 9:  1.0317e+11 -1.1340e+11  2e+11  2e-16  1e-10\n",
      "10:  1.4783e+10 -1.6249e+10  3e+10  2e-11  5e-11\n",
      "11:  2.1184e+09 -2.3284e+09  4e+09  9e-12  2e-11\n",
      "12:  3.0353e+08 -3.3368e+08  6e+08  1e-11  1e-11\n",
      "13:  4.3485e+07 -4.7825e+07  9e+07  9e-13  5e-12\n",
      "14:  6.2273e+06 -6.8572e+06  1e+07  2e-12  1e-12\n",
      "15:  8.9085e+05 -9.8413e+05  2e+06  2e-13  4e-13\n",
      "16:  1.2708e+05 -1.4160e+05  3e+05  1e-13  1e-13\n",
      "17:  1.7990e+04 -2.0509e+04  4e+04  1e-14  5e-14\n",
      "18:  2.4903e+03 -3.0239e+03  6e+03  8e-15  3e-14\n",
      "19:  3.1918e+02 -4.6802e+02  8e+02  9e-16  8e-15\n",
      "20:  2.5941e+01 -8.3342e+01  1e+02  6e-15  4e-15\n",
      "21: -8.5159e+00 -3.2885e+01  2e+01  2e-15  1e-15\n",
      "22: -2.5803e+01 -3.4850e+01  9e+00  1e-15  1e-15\n",
      "23: -2.8269e+01 -2.8397e+01  1e-01  3e-15  1e-15\n",
      "24: -2.8313e+01 -2.8314e+01  1e-03  6e-15  1e-15\n",
      "25: -2.8313e+01 -2.8313e+01  1e-05  4e-15  1e-15\n",
      "Optimal solution found.\n",
      "[  9.16898513e-08   1.03345910e-07   1.37844105e-07   1.45418707e+01\n",
      "   3.99512923e-08   2.83134878e+01   5.37596397e-08   2.45465032e-07\n",
      "   1.82809529e-07   6.99772051e-08   8.97766145e-08   1.38563816e-07\n",
      "   1.37716182e+01   7.05723837e-08   9.08200455e-08   1.31787062e-07\n",
      "   2.41753726e-07   7.49115981e-08   1.28657593e-07   6.61077654e-08]\n"
     ]
    }
   ],
   "source": [
    "solution = cvxopt.solvers.qp(P, q, G, h, A, b)\n",
    "a = np.ravel(solution['x'])  # numpy.ravel return a flattened array\n",
    "print(a)"
   ]
  },
  {
   "cell_type": "markdown",
   "metadata": {},
   "source": [
    "difference between reval and flatten<br>\n",
    "https://stackoverflow.com/questions/28930465/what-is-the-difference-between-flatten-and-ravel-functions-in-numpy<br>\n",
    "**flatten:** always returns a copy<br>\n",
    "**ravel:** returns a view of original array whenever possible. This isn't visible in the printed output, but if you modify the array returned by ravel, it may modify the entries in the original array.  If you modify the entries in an array returned from flatten this will never happen. ravel will often be faster since no memory is copied, but you have to be more careful about modifying the array it returns.<br>\n",
    "**reshape((-1,)):** gets a view whenever the strides of the array allow it even if that means you don't always get a contiguous array.<br>\n",
    "\n",
    "And some complains :-) <br>\n",
    "Any idea why NumPy developers didn't stick to one function with some parameter copy=[True,False]? "
   ]
  },
  {
   "cell_type": "markdown",
   "metadata": {},
   "source": [
    "观察$\\alpha$的返回，可以注意到绝大多数的$\\alpha$几乎等于0， 这不是错误，而是因为<br>\n",
    "KKT的条件是：<br>\n",
    "$\\alpha_n(y_n(w^Tx_n + b) - 1) = 0$<br>\n",
    "这里如果$y_n(w^Tx_n+b)-1$离超平面很远的话，$\\alpha$会被调整到接近0，而只有真正的support vectos $y_n(w^Tx_n+b)-1$会离超平面很近，这时$\\alpha$才有比较大的取值。<br>\n",
    "我们需要按照$\\alpha$的大小，挑出support vectors\n"
   ]
  },
  {
   "cell_type": "code",
   "execution_count": 130,
   "metadata": {},
   "outputs": [
    {
     "name": "stdout",
     "output_type": "stream",
     "text": [
      "[False False False  True False  True False False False False False False\n",
      "  True False False False False False False False]\n",
      "[ 14.54187065  28.31348785  13.77161816]\n"
     ]
    },
    {
     "data": {
      "text/plain": [
       "<matplotlib.collections.PathCollection at 0x108c1d390>"
      ]
     },
     "execution_count": 130,
     "metadata": {},
     "output_type": "execute_result"
    },
    {
     "data": {
      "image/png": "[encoded data removed]",
      "text/plain": [
       "<matplotlib.figure.Figure at 0x108ac45f8>"
      ]
     },
     "metadata": {},
     "output_type": "display_data"
    }
   ],
   "source": [
    "# Create a boolean list of non-zero alphas\n",
    "ssv = a > 1e-5\n",
    "print(ssv)\n",
    "# Select the index of these alphas. They are the support vectors.\n",
    "ind = np.arange(len(a))[ssv]\n",
    "# Select the corresponding alphas a, support vectors sv and class labels sv_y\n",
    "a = a[ssv]\n",
    "print(a)\n",
    "sv = X_svm[ssv]\n",
    "sv_y = y_output[ssv]\n",
    " \n",
    "# Plotting the support vectors\n",
    "plt.scatter(\n",
    "    sv[:,0],\n",
    "    sv[:,1],\n",
    "    facecolors='none',\n",
    "    s=400,\n",
    "    edgecolors='k'\n",
    "    )"
   ]
  },
  {
   "cell_type": "markdown",
   "metadata": {},
   "source": [
    "Solution:\n",
    "$ w = \\sum_{n=1}^{N}\\alpha_ny_nx_n $"
   ]
  },
  {
   "cell_type": "code",
   "execution_count": 131,
   "metadata": {},
   "outputs": [
    {
     "name": "stdout",
     "output_type": "stream",
     "text": [
      "w_svm: [ 6.13587889 -4.35637027]\n",
      "b_svm: -0.663824131975\n"
     ]
    }
   ],
   "source": [
    "# Computing the weights w_svm\n",
    "w_svm = np.zeros(X_svm.shape[1])\n",
    " \n",
    "for each in range(len(a)):\n",
    "    w_svm += a[each] * sv_y[each] * sv[each]\n",
    "print('w_svm:', w_svm)\n",
    " \n",
    "# Computing the intercept b_svm\n",
    "b_svm = sv_y[0] - np.dot(w_svm, sv[0])\n",
    "print('b_svm:', b_svm)"
   ]
  },
  {
   "cell_type": "markdown",
   "metadata": {},
   "source": [
    "**图示分类结果**"
   ]
  },
  {
   "cell_type": "code",
   "execution_count": 132,
   "metadata": {},
   "outputs": [
    {
     "data": {
      "text/plain": [
       "[<matplotlib.lines.Line2D at 0x108c1dc50>]"
      ]
     },
     "execution_count": 132,
     "metadata": {},
     "output_type": "execute_result"
    },
    {
     "data": {
      "image/png": "[encoded data removed]",
      "text/plain": [
       "<matplotlib.figure.Figure at 0x108c2b5f8>"
      ]
     },
     "metadata": {},
     "output_type": "display_data"
    }
   ],
   "source": [
    "plt.plot([-1,1], [x2_lefttargetf,x2_righttargetf])\n",
    "plt.axis((-1,1,-1,1))\n",
    "\n",
    "# Plotting the training points\n",
    "plt.scatter(\n",
    "    x1_input,\n",
    "    x2_input,\n",
    "    c=y_output,\n",
    "    cmap='bwr',\n",
    "    alpha=1,\n",
    "    s=100,\n",
    "    edgecolors='k'\n",
    "    )\n",
    "\n",
    "plt.scatter(\n",
    "    sv[:,0],\n",
    "    sv[:,1],\n",
    "    facecolors='none',\n",
    "    s=400,\n",
    "    edgecolors='k'\n",
    "    )\n",
    "\n",
    "# Plot of SVM function\n",
    "svm_x2_lefttargeth = -(w_svm[0]*(-1)+b_svm)/w_svm[1]\n",
    "svm_x2_righttargeth = -(w_svm[0]*(1)+b_svm)/w_svm[1]\n",
    " \n",
    "plt.plot([-1,1], [svm_x2_lefttargeth,svm_x2_righttargeth])"
   ]
  },
  {
   "cell_type": "code",
   "execution_count": null,
   "metadata": {},
   "outputs": [],
   "source": []
  }
 ],
 "metadata": {
  "kernelspec": {
   "display_name": "Python 3",
   "language": "python",
   "name": "python3"
  },
  "language_info": {
   "codemirror_mode": {
    "name": "ipython",
    "version": 3
   },
   "file_extension": ".py",
   "mimetype": "text/x-python",
   "name": "python",
   "nbconvert_exporter": "python",
   "pygments_lexer": "ipython3",
   "version": "3.6.0"
  }
 },
 "nbformat": 4,
 "nbformat_minor": 1
}
