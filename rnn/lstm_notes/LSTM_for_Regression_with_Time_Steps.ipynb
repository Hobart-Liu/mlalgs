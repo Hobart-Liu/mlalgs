{
 "cells": [
  {
   "cell_type": "markdown",
   "metadata": {
    "collapsed": true,
    "deletable": true,
    "editable": true
   },
   "source": [
    "# LSTM for Regression with Time Steps\n",
    "\n",
    "You may have noticed that the data preparation for the LSTM network includes time steps. \n",
    "\n",
    "Some sequence problems may have a varied number of time steps per sample. For example, you may have meausrements of a physical machine leading up to a point of failure or a point of surge. Each incident would be a sample the observations that lead up to the event would be the time steps, and the variables observed would be the features. \n",
    "\n",
    "Time steps provide another way to phrase our time series problem. Like window example, we can take prior time steps in our time series as inputs to predict the output at the next time step. \n",
    "\n",
    "Instead of phrasing the past observations as separated input fetures, we can use them as time steps of the one input feature, which is indeed a more accurate framing of the problem. \n",
    "\n",
    "We can do this using the same data representation as in the previous window-based example, except when we reshape the data, we set the columns to be the time steps dimension and chnage the features dimension back to 1. "
   ]
  },
  {
   "cell_type": "code",
   "execution_count": 1,
   "metadata": {
    "collapsed": false,
    "deletable": true,
    "editable": true
   },
   "outputs": [
    {
     "name": "stderr",
     "output_type": "stream",
     "text": [
      "Using TensorFlow backend.\n"
     ]
    }
   ],
   "source": [
    "import numpy\n",
    "import matplotlib.pyplot as plt\n",
    "import pandas\n",
    "import math\n",
    "from keras.models import Sequential\n",
    "from keras.layers import Dense\n",
    "from keras.layers import LSTM\n",
    "from sklearn.preprocessing import MinMaxScaler\n",
    "from sklearn.metrics import mean_squared_error"
   ]
  },
  {
   "cell_type": "code",
   "execution_count": 5,
   "metadata": {
    "collapsed": true,
    "deletable": true,
    "editable": true
   },
   "outputs": [],
   "source": [
    "# convert an array of values into a dataset matrix\n",
    "def create_dataset(dataset, look_back=1):\n",
    "\tdataX, dataY = [], []\n",
    "\tfor i in range(len(dataset)-look_back-1):\n",
    "\t\ta = dataset[i:(i+look_back), 0]\n",
    "\t\tdataX.append(a)\n",
    "\t\tdataY.append(dataset[i + look_back, 0])\n",
    "\treturn numpy.array(dataX), numpy.array(dataY)"
   ]
  },
  {
   "cell_type": "code",
   "execution_count": 8,
   "metadata": {
    "collapsed": true,
    "deletable": true,
    "editable": true
   },
   "outputs": [],
   "source": [
    "# fix random seed for reproducibility\n",
    "numpy.random.seed(7)\n",
    "# load the dataset\n",
    "dataframe = pandas.read_csv('international-airline-passengers.csv', usecols=[1], engine='python', skipfooter=3)\n",
    "dataset = dataframe.values\n",
    "dataset = dataset.astype('float32')"
   ]
  },
  {
   "cell_type": "code",
   "execution_count": 9,
   "metadata": {
    "collapsed": false,
    "deletable": true,
    "editable": true
   },
   "outputs": [],
   "source": [
    "# normalize the dataset\n",
    "scaler = MinMaxScaler(feature_range=(0, 1))\n",
    "dataset = scaler.fit_transform(dataset)\n",
    "# split into train and test sets\n",
    "train_size = int(len(dataset) * 0.67)\n",
    "test_size = len(dataset) - train_size\n",
    "train, test = dataset[0:train_size,:], dataset[train_size:len(dataset),:]"
   ]
  },
  {
   "cell_type": "code",
   "execution_count": 15,
   "metadata": {
    "collapsed": false
   },
   "outputs": [
    {
     "name": "stdout",
     "output_type": "stream",
     "text": [
      "trainX shape (92, 3) trainY shape (92,)\n",
      "[ 0.01544401  0.02702703  0.05405405] 0.0482626\n",
      "[ 0.02702703  0.05405405  0.04826255] 0.0328185\n",
      "[ 0.05405405  0.04826255  0.03281853] 0.0598456\n",
      "[ 0.04826255  0.03281853  0.05984557] 0.0849421\n",
      "[ 0.03281853  0.05984557  0.08494207] 0.0849421\n"
     ]
    }
   ],
   "source": [
    "# reshape into X=t and Y=t+1\n",
    "look_back = 3\n",
    "trainX, trainY = create_dataset(train, look_back)\n",
    "testX, testY = create_dataset(test, look_back)\n",
    "print(\"trainX shape\", trainX.shape, \"trainY shape\", trainY.shape)\n",
    "for i in range(5):\n",
    "    print(trainX[i], trainY[i])"
   ]
  },
  {
   "cell_type": "markdown",
   "metadata": {},
   "source": [
    "Here trainX is in form **(samples=92, features=3)**. It can be explained that we have a **shape** described by features=3, and use this shape to predict next shape. (in the lstm in window). \n",
    "\n",
    "Now we will change the shape into sequence, each time step we have only 1 feature, but we have 3 steps. \n",
    "\n",
    "That is change from **(sample=92, feature=3)** to **(sample=92, time_steps=3, feature=1)**"
   ]
  },
  {
   "cell_type": "code",
   "execution_count": 16,
   "metadata": {
    "collapsed": false
   },
   "outputs": [
    {
     "name": "stdout",
     "output_type": "stream",
     "text": [
      "trainX shape (92, 3, 1)\n",
      "[[ 0.01544401]\n",
      " [ 0.02702703]\n",
      " [ 0.05405405]]\n",
      "[[ 0.02702703]\n",
      " [ 0.05405405]\n",
      " [ 0.04826255]]\n",
      "[[ 0.05405405]\n",
      " [ 0.04826255]\n",
      " [ 0.03281853]]\n",
      "[[ 0.04826255]\n",
      " [ 0.03281853]\n",
      " [ 0.05984557]]\n",
      "[[ 0.03281853]\n",
      " [ 0.05984557]\n",
      " [ 0.08494207]]\n"
     ]
    }
   ],
   "source": [
    "# reshape input to be [samples, time steps, features]\n",
    "trainX = numpy.reshape(trainX, (trainX.shape[0], trainX.shape[1], 1))\n",
    "testX = numpy.reshape(testX, (testX.shape[0], testX.shape[1], 1))\n",
    "print('trainX shape', trainX.shape)\n",
    "for i in range(5):\n",
    "    print(trainX[i])"
   ]
  },
  {
   "cell_type": "markdown",
   "metadata": {},
   "source": [
    "### now we create LSTM network\n",
    "Note: the input_dim is set back to 1, even though the look_back is 3. \n",
    "In window based and normal regression, we set input_dim = look_back, basically we use shape to predict shape. "
   ]
  },
  {
   "cell_type": "code",
   "execution_count": 17,
   "metadata": {
    "collapsed": false
   },
   "outputs": [
    {
     "name": "stdout",
     "output_type": "stream",
     "text": [
      "____________________________________________________________________________________________________\n",
      "Layer (type)                     Output Shape          Param #     Connected to                     \n",
      "====================================================================================================\n",
      "lstm_1 (LSTM)                    (None, 4)             96          lstm_input_1[0][0]               \n",
      "____________________________________________________________________________________________________\n",
      "dense_1 (Dense)                  (None, 1)             5           lstm_1[0][0]                     \n",
      "====================================================================================================\n",
      "Total params: 101\n",
      "Trainable params: 101\n",
      "Non-trainable params: 0\n",
      "____________________________________________________________________________________________________\n"
     ]
    }
   ],
   "source": [
    "# create and fit the LSTM network\n",
    "model = Sequential()\n",
    "model.add(LSTM(4, input_dim=1))\n",
    "model.add(Dense(1))\n",
    "model.compile(loss='mean_squared_error', optimizer='adam')\n",
    "model.summary()"
   ]
  },
  {
   "cell_type": "code",
   "execution_count": 18,
   "metadata": {
    "collapsed": false
   },
   "outputs": [
    {
     "name": "stdout",
     "output_type": "stream",
     "text": [
      "Epoch 1/100\n",
      "0s - loss: 0.0160\n",
      "Epoch 2/100\n",
      "0s - loss: 0.0079\n",
      "Epoch 3/100\n",
      "0s - loss: 0.0070\n",
      "Epoch 4/100\n",
      "0s - loss: 0.0061\n",
      "Epoch 5/100\n",
      "0s - loss: 0.0053\n",
      "Epoch 6/100\n",
      "0s - loss: 0.0047\n",
      "Epoch 7/100\n",
      "0s - loss: 0.0043\n",
      "Epoch 8/100\n",
      "0s - loss: 0.0042\n",
      "Epoch 9/100\n",
      "0s - loss: 0.0039\n",
      "Epoch 10/100\n",
      "0s - loss: 0.0039\n",
      "Epoch 11/100\n",
      "0s - loss: 0.0039\n",
      "Epoch 12/100\n",
      "0s - loss: 0.0037\n",
      "Epoch 13/100\n",
      "0s - loss: 0.0037\n",
      "Epoch 14/100\n",
      "0s - loss: 0.0037\n",
      "Epoch 15/100\n",
      "0s - loss: 0.0037\n",
      "Epoch 16/100\n",
      "0s - loss: 0.0036\n",
      "Epoch 17/100\n",
      "0s - loss: 0.0035\n",
      "Epoch 18/100\n",
      "0s - loss: 0.0037\n",
      "Epoch 19/100\n",
      "0s - loss: 0.0038\n",
      "Epoch 20/100\n",
      "0s - loss: 0.0038\n",
      "Epoch 21/100\n",
      "0s - loss: 0.0035\n",
      "Epoch 22/100\n",
      "0s - loss: 0.0036\n",
      "Epoch 23/100\n",
      "0s - loss: 0.0036\n",
      "Epoch 24/100\n",
      "0s - loss: 0.0036\n",
      "Epoch 25/100\n",
      "0s - loss: 0.0036\n",
      "Epoch 26/100\n",
      "0s - loss: 0.0036\n",
      "Epoch 27/100\n",
      "0s - loss: 0.0036\n",
      "Epoch 28/100\n",
      "0s - loss: 0.0036\n",
      "Epoch 29/100\n",
      "0s - loss: 0.0035\n",
      "Epoch 30/100\n",
      "0s - loss: 0.0036\n",
      "Epoch 31/100\n",
      "0s - loss: 0.0035\n",
      "Epoch 32/100\n",
      "0s - loss: 0.0035\n",
      "Epoch 33/100\n",
      "0s - loss: 0.0035\n",
      "Epoch 34/100\n",
      "0s - loss: 0.0034\n",
      "Epoch 35/100\n",
      "0s - loss: 0.0037\n",
      "Epoch 36/100\n",
      "0s - loss: 0.0035\n",
      "Epoch 37/100\n",
      "0s - loss: 0.0034\n",
      "Epoch 38/100\n",
      "0s - loss: 0.0034\n",
      "Epoch 39/100\n",
      "0s - loss: 0.0035\n",
      "Epoch 40/100\n",
      "0s - loss: 0.0034\n",
      "Epoch 41/100\n",
      "0s - loss: 0.0034\n",
      "Epoch 42/100\n",
      "0s - loss: 0.0034\n",
      "Epoch 43/100\n",
      "0s - loss: 0.0033\n",
      "Epoch 44/100\n",
      "0s - loss: 0.0033\n",
      "Epoch 45/100\n",
      "0s - loss: 0.0034\n",
      "Epoch 46/100\n",
      "0s - loss: 0.0033\n",
      "Epoch 47/100\n",
      "0s - loss: 0.0034\n",
      "Epoch 48/100\n",
      "0s - loss: 0.0033\n",
      "Epoch 49/100\n",
      "0s - loss: 0.0033\n",
      "Epoch 50/100\n",
      "0s - loss: 0.0033\n",
      "Epoch 51/100\n",
      "0s - loss: 0.0033\n",
      "Epoch 52/100\n",
      "0s - loss: 0.0033\n",
      "Epoch 53/100\n",
      "0s - loss: 0.0032\n",
      "Epoch 54/100\n",
      "0s - loss: 0.0033\n",
      "Epoch 55/100\n",
      "0s - loss: 0.0032\n",
      "Epoch 56/100\n",
      "0s - loss: 0.0035\n",
      "Epoch 57/100\n",
      "0s - loss: 0.0032\n",
      "Epoch 58/100\n",
      "0s - loss: 0.0032\n",
      "Epoch 59/100\n",
      "0s - loss: 0.0032\n",
      "Epoch 60/100\n",
      "0s - loss: 0.0031\n",
      "Epoch 61/100\n",
      "0s - loss: 0.0032\n",
      "Epoch 62/100\n",
      "0s - loss: 0.0032\n",
      "Epoch 63/100\n",
      "0s - loss: 0.0032\n",
      "Epoch 64/100\n",
      "0s - loss: 0.0032\n",
      "Epoch 65/100\n",
      "0s - loss: 0.0030\n",
      "Epoch 66/100\n",
      "0s - loss: 0.0031\n",
      "Epoch 67/100\n",
      "0s - loss: 0.0032\n",
      "Epoch 68/100\n",
      "0s - loss: 0.0031\n",
      "Epoch 69/100\n",
      "0s - loss: 0.0031\n",
      "Epoch 70/100\n",
      "0s - loss: 0.0031\n",
      "Epoch 71/100\n",
      "0s - loss: 0.0031\n",
      "Epoch 72/100\n",
      "0s - loss: 0.0031\n",
      "Epoch 73/100\n",
      "0s - loss: 0.0030\n",
      "Epoch 74/100\n",
      "0s - loss: 0.0030\n",
      "Epoch 75/100\n",
      "0s - loss: 0.0031\n",
      "Epoch 76/100\n",
      "0s - loss: 0.0032\n",
      "Epoch 77/100\n",
      "0s - loss: 0.0030\n",
      "Epoch 78/100\n",
      "0s - loss: 0.0031\n",
      "Epoch 79/100\n",
      "0s - loss: 0.0030\n",
      "Epoch 80/100\n",
      "0s - loss: 0.0030\n",
      "Epoch 81/100\n",
      "0s - loss: 0.0030\n",
      "Epoch 82/100\n",
      "0s - loss: 0.0029\n",
      "Epoch 83/100\n",
      "0s - loss: 0.0029\n",
      "Epoch 84/100\n",
      "0s - loss: 0.0029\n",
      "Epoch 85/100\n",
      "0s - loss: 0.0029\n",
      "Epoch 86/100\n",
      "0s - loss: 0.0029\n",
      "Epoch 87/100\n",
      "0s - loss: 0.0030\n",
      "Epoch 88/100\n",
      "0s - loss: 0.0028\n",
      "Epoch 89/100\n",
      "0s - loss: 0.0029\n",
      "Epoch 90/100\n",
      "0s - loss: 0.0028\n",
      "Epoch 91/100\n",
      "0s - loss: 0.0028\n",
      "Epoch 92/100\n",
      "0s - loss: 0.0028\n",
      "Epoch 93/100\n",
      "0s - loss: 0.0029\n",
      "Epoch 94/100\n",
      "0s - loss: 0.0028\n",
      "Epoch 95/100\n",
      "0s - loss: 0.0027\n",
      "Epoch 96/100\n",
      "0s - loss: 0.0028\n",
      "Epoch 97/100\n",
      "0s - loss: 0.0027\n",
      "Epoch 98/100\n",
      "0s - loss: 0.0026\n",
      "Epoch 99/100\n",
      "0s - loss: 0.0027\n",
      "Epoch 100/100\n",
      "0s - loss: 0.0026\n"
     ]
    },
    {
     "data": {
      "text/plain": [
       "<keras.callbacks.History at 0x7fac17330358>"
      ]
     },
     "execution_count": 18,
     "metadata": {},
     "output_type": "execute_result"
    }
   ],
   "source": [
    "model.fit(trainX, trainY, nb_epoch=100, batch_size=1, verbose=2)"
   ]
  },
  {
   "cell_type": "code",
   "execution_count": 19,
   "metadata": {
    "collapsed": false
   },
   "outputs": [
    {
     "name": "stdout",
     "output_type": "stream",
     "text": [
      "Train Score: 26.86 RMSE\n",
      "Test Score: 69.59 RMSE\n"
     ]
    }
   ],
   "source": [
    "# make predictions\n",
    "trainPredict = model.predict(trainX)\n",
    "testPredict = model.predict(testX)\n",
    "# invert predictions\n",
    "trainPredict = scaler.inverse_transform(trainPredict)\n",
    "trainY = scaler.inverse_transform([trainY])\n",
    "testPredict = scaler.inverse_transform(testPredict)\n",
    "testY = scaler.inverse_transform([testY])\n",
    "# calculate root mean squared error\n",
    "trainScore = math.sqrt(mean_squared_error(trainY[0], trainPredict[:,0]))\n",
    "print('Train Score: %.2f RMSE' % (trainScore))\n",
    "testScore = math.sqrt(mean_squared_error(testY[0], testPredict[:,0]))\n",
    "print('Test Score: %.2f RMSE' % (testScore))"
   ]
  },
  {
   "cell_type": "code",
   "execution_count": 20,
   "metadata": {
    "collapsed": false
   },
   "outputs": [
    {
     "data": {
      "image/png": "[encoded data removed]",
      "text/plain": [
       "<matplotlib.figure.Figure at 0x7fac1716fd30>"
      ]
     },
     "metadata": {},
     "output_type": "display_data"
    }
   ],
   "source": [
    "# shift train predictions for plotting\n",
    "trainPredictPlot = numpy.empty_like(dataset)\n",
    "trainPredictPlot[:, :] = numpy.nan\n",
    "trainPredictPlot[look_back:len(trainPredict)+look_back, :] = trainPredict\n",
    "# shift test predictions for plotting\n",
    "testPredictPlot = numpy.empty_like(dataset)\n",
    "testPredictPlot[:, :] = numpy.nan\n",
    "testPredictPlot[len(trainPredict)+(look_back*2)+1:len(dataset)-1, :] = testPredict\n",
    "# plot baseline and predictions\n",
    "plt.plot(scaler.inverse_transform(dataset))\n",
    "plt.plot(trainPredictPlot)\n",
    "plt.plot(testPredictPlot)\n",
    "plt.show()"
   ]
  },
  {
   "cell_type": "code",
   "execution_count": null,
   "metadata": {
    "collapsed": true
   },
   "outputs": [],
   "source": []
  }
 ],
 "metadata": {
  "kernelspec": {
   "display_name": "Python 3",
   "language": "python",
   "name": "python3"
  },
  "language_info": {
   "codemirror_mode": {
    "name": "ipython",
    "version": 3
   },
   "file_extension": ".py",
   "mimetype": "text/x-python",
   "name": "python",
   "nbconvert_exporter": "python",
   "pygments_lexer": "ipython3",
   "version": "3.5.2"
  }
 },
 "nbformat": 4,
 "nbformat_minor": 0
}
