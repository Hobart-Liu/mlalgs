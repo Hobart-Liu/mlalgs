{
 "cells": [
  {
   "cell_type": "code",
   "execution_count": 2,
   "metadata": {
    "collapsed": false,
    "deletable": true,
    "editable": true
   },
   "outputs": [
    {
     "name": "stderr",
     "output_type": "stream",
     "text": [
      "Using TensorFlow backend.\n"
     ]
    }
   ],
   "source": [
    "import numpy\n",
    "import math\n",
    "import pandas\n",
    "import matplotlib.pyplot as plt\n",
    "from keras.models import Sequential\n",
    "from keras.layers import Dense\n",
    "from keras.layers import LSTM\n",
    "from sklearn.preprocessing import MinMaxScaler\n",
    "from sklearn.metrics import mean_squared_error"
   ]
  },
  {
   "cell_type": "code",
   "execution_count": 3,
   "metadata": {
    "collapsed": false,
    "deletable": true,
    "editable": true,
    "scrolled": true
   },
   "outputs": [
    {
     "data": {
      "image/png": "[encoded data removed]",
      "text/plain": [
       "<matplotlib.figure.Figure at 0x7f6514634b00>"
      ]
     },
     "metadata": {},
     "output_type": "display_data"
    }
   ],
   "source": [
    "dataset = pandas.read_csv('international-airline-passengers.csv', usecols=[1], engine='python', skipfooter=3)\n",
    "plt.plot(dataset)\n",
    "plt.show()"
   ]
  },
  {
   "cell_type": "markdown",
   "metadata": {
    "deletable": true,
    "editable": true
   },
   "source": [
    "The downloaded dataset also has footer information that we can exclude with the skipfooter argument to pandas.read_csv() set to 3 for the 3 footer lines."
   ]
  },
  {
   "cell_type": "markdown",
   "metadata": {
    "deletable": true,
    "editable": true
   },
   "source": [
    "## We phrase the problem as regression problem.  \n",
    "That is, given the number of passengers (in units of thousands) this month, what is the number of passengers next month? \n",
    "\n",
    "### We can write a simple function to convert out single column of data into a two-column dataset: the first column containing this month's (t) passenger count and the second column containing next month's (t+1) passenger counter, to be predicted. \n"
   ]
  },
  {
   "cell_type": "code",
   "execution_count": 5,
   "metadata": {
    "collapsed": false,
    "deletable": true,
    "editable": true
   },
   "outputs": [],
   "source": [
    "numpy.random.seed(7)  # esnure it is reproducible. "
   ]
  },
  {
   "cell_type": "code",
   "execution_count": 7,
   "metadata": {
    "collapsed": false,
    "deletable": true,
    "editable": true
   },
   "outputs": [
    {
     "data": {
      "text/plain": [
       "array([[ 112.],\n",
       "       [ 118.],\n",
       "       [ 132.],\n",
       "       [ 129.],\n",
       "       [ 121.],\n",
       "       [ 135.],\n",
       "       [ 148.],\n",
       "       [ 148.],\n",
       "       [ 136.],\n",
       "       [ 119.],\n",
       "       [ 104.],\n",
       "       [ 118.],\n",
       "       [ 115.],\n",
       "       [ 126.],\n",
       "       [ 141.],\n",
       "       [ 135.],\n",
       "       [ 125.],\n",
       "       [ 149.],\n",
       "       [ 170.],\n",
       "       [ 170.],\n",
       "       [ 158.],\n",
       "       [ 133.],\n",
       "       [ 114.],\n",
       "       [ 140.],\n",
       "       [ 145.],\n",
       "       [ 150.],\n",
       "       [ 178.],\n",
       "       [ 163.],\n",
       "       [ 172.],\n",
       "       [ 178.],\n",
       "       [ 199.],\n",
       "       [ 199.],\n",
       "       [ 184.],\n",
       "       [ 162.],\n",
       "       [ 146.],\n",
       "       [ 166.],\n",
       "       [ 171.],\n",
       "       [ 180.],\n",
       "       [ 193.],\n",
       "       [ 181.],\n",
       "       [ 183.],\n",
       "       [ 218.],\n",
       "       [ 230.],\n",
       "       [ 242.],\n",
       "       [ 209.],\n",
       "       [ 191.],\n",
       "       [ 172.],\n",
       "       [ 194.],\n",
       "       [ 196.],\n",
       "       [ 196.],\n",
       "       [ 236.],\n",
       "       [ 235.],\n",
       "       [ 229.],\n",
       "       [ 243.],\n",
       "       [ 264.],\n",
       "       [ 272.],\n",
       "       [ 237.],\n",
       "       [ 211.],\n",
       "       [ 180.],\n",
       "       [ 201.],\n",
       "       [ 204.],\n",
       "       [ 188.],\n",
       "       [ 235.],\n",
       "       [ 227.],\n",
       "       [ 234.],\n",
       "       [ 264.],\n",
       "       [ 302.],\n",
       "       [ 293.],\n",
       "       [ 259.],\n",
       "       [ 229.],\n",
       "       [ 203.],\n",
       "       [ 229.],\n",
       "       [ 242.],\n",
       "       [ 233.],\n",
       "       [ 267.],\n",
       "       [ 269.],\n",
       "       [ 270.],\n",
       "       [ 315.],\n",
       "       [ 364.],\n",
       "       [ 347.],\n",
       "       [ 312.],\n",
       "       [ 274.],\n",
       "       [ 237.],\n",
       "       [ 278.],\n",
       "       [ 284.],\n",
       "       [ 277.],\n",
       "       [ 317.],\n",
       "       [ 313.],\n",
       "       [ 318.],\n",
       "       [ 374.],\n",
       "       [ 413.],\n",
       "       [ 405.],\n",
       "       [ 355.],\n",
       "       [ 306.],\n",
       "       [ 271.],\n",
       "       [ 306.],\n",
       "       [ 315.],\n",
       "       [ 301.],\n",
       "       [ 356.],\n",
       "       [ 348.],\n",
       "       [ 355.],\n",
       "       [ 422.],\n",
       "       [ 465.],\n",
       "       [ 467.],\n",
       "       [ 404.],\n",
       "       [ 347.],\n",
       "       [ 305.],\n",
       "       [ 336.],\n",
       "       [ 340.],\n",
       "       [ 318.],\n",
       "       [ 362.],\n",
       "       [ 348.],\n",
       "       [ 363.],\n",
       "       [ 435.],\n",
       "       [ 491.],\n",
       "       [ 505.],\n",
       "       [ 404.],\n",
       "       [ 359.],\n",
       "       [ 310.],\n",
       "       [ 337.],\n",
       "       [ 360.],\n",
       "       [ 342.],\n",
       "       [ 406.],\n",
       "       [ 396.],\n",
       "       [ 420.],\n",
       "       [ 472.],\n",
       "       [ 548.],\n",
       "       [ 559.],\n",
       "       [ 463.],\n",
       "       [ 407.],\n",
       "       [ 362.],\n",
       "       [ 405.],\n",
       "       [ 417.],\n",
       "       [ 391.],\n",
       "       [ 419.],\n",
       "       [ 461.],\n",
       "       [ 472.],\n",
       "       [ 535.],\n",
       "       [ 622.],\n",
       "       [ 606.],\n",
       "       [ 508.],\n",
       "       [ 461.],\n",
       "       [ 390.],\n",
       "       [ 432.]], dtype=float32)"
      ]
     },
     "execution_count": 7,
     "metadata": {},
     "output_type": "execute_result"
    }
   ],
   "source": [
    "dataset = dataset.values\n",
    "dataset = dataset.astype('float32')\n",
    "dataset"
   ]
  },
  {
   "cell_type": "markdown",
   "metadata": {
    "deletable": true,
    "editable": true
   },
   "source": [
    "LSTMs are sensitive to thescale of the input data, specifically when the sigmoid (default) or tanh activation functions are used. It can be a good practice to rescale the data to the range of 0-to-1.\n",
    "\n",
    "you can save the MinMaxScaler used to scale the training data and use it later to scale new input data and in turn descale predictions. The call is **scaler.inverse_transform()** from memory."
   ]
  },
  {
   "cell_type": "code",
   "execution_count": 8,
   "metadata": {
    "collapsed": false,
    "deletable": true,
    "editable": true
   },
   "outputs": [
    {
     "data": {
      "text/plain": [
       "array([[ 0.01544401],\n",
       "       [ 0.02702703],\n",
       "       [ 0.05405405],\n",
       "       [ 0.04826255],\n",
       "       [ 0.03281853],\n",
       "       [ 0.05984557],\n",
       "       [ 0.08494207],\n",
       "       [ 0.08494207],\n",
       "       [ 0.06177607],\n",
       "       [ 0.02895753],\n",
       "       [ 0.        ],\n",
       "       [ 0.02702703],\n",
       "       [ 0.02123553],\n",
       "       [ 0.04247104],\n",
       "       [ 0.07142857],\n",
       "       [ 0.05984557],\n",
       "       [ 0.04054055],\n",
       "       [ 0.08687258],\n",
       "       [ 0.12741312],\n",
       "       [ 0.12741312],\n",
       "       [ 0.10424709],\n",
       "       [ 0.05598456],\n",
       "       [ 0.01930502],\n",
       "       [ 0.06949806],\n",
       "       [ 0.07915059],\n",
       "       [ 0.08880308],\n",
       "       [ 0.14285713],\n",
       "       [ 0.11389962],\n",
       "       [ 0.13127413],\n",
       "       [ 0.14285713],\n",
       "       [ 0.18339768],\n",
       "       [ 0.18339768],\n",
       "       [ 0.15444016],\n",
       "       [ 0.11196911],\n",
       "       [ 0.08108109],\n",
       "       [ 0.1196911 ],\n",
       "       [ 0.12934363],\n",
       "       [ 0.14671814],\n",
       "       [ 0.17181468],\n",
       "       [ 0.14864865],\n",
       "       [ 0.15250966],\n",
       "       [ 0.22007722],\n",
       "       [ 0.24324325],\n",
       "       [ 0.26640925],\n",
       "       [ 0.2027027 ],\n",
       "       [ 0.16795367],\n",
       "       [ 0.13127413],\n",
       "       [ 0.17374519],\n",
       "       [ 0.17760617],\n",
       "       [ 0.17760617],\n",
       "       [ 0.25482625],\n",
       "       [ 0.25289574],\n",
       "       [ 0.24131274],\n",
       "       [ 0.26833975],\n",
       "       [ 0.3088803 ],\n",
       "       [ 0.32432434],\n",
       "       [ 0.25675675],\n",
       "       [ 0.20656371],\n",
       "       [ 0.14671814],\n",
       "       [ 0.18725869],\n",
       "       [ 0.19305018],\n",
       "       [ 0.16216215],\n",
       "       [ 0.25289574],\n",
       "       [ 0.23745173],\n",
       "       [ 0.25096524],\n",
       "       [ 0.3088803 ],\n",
       "       [ 0.38223937],\n",
       "       [ 0.36486486],\n",
       "       [ 0.2992278 ],\n",
       "       [ 0.24131274],\n",
       "       [ 0.1911197 ],\n",
       "       [ 0.24131274],\n",
       "       [ 0.26640925],\n",
       "       [ 0.24903473],\n",
       "       [ 0.31467178],\n",
       "       [ 0.31853279],\n",
       "       [ 0.32046333],\n",
       "       [ 0.40733591],\n",
       "       [ 0.50193048],\n",
       "       [ 0.46911195],\n",
       "       [ 0.40154442],\n",
       "       [ 0.32818535],\n",
       "       [ 0.25675675],\n",
       "       [ 0.33590731],\n",
       "       [ 0.34749034],\n",
       "       [ 0.33397684],\n",
       "       [ 0.41119692],\n",
       "       [ 0.4034749 ],\n",
       "       [ 0.41312739],\n",
       "       [ 0.52123547],\n",
       "       [ 0.59652507],\n",
       "       [ 0.58108103],\n",
       "       [ 0.48455599],\n",
       "       [ 0.38996139],\n",
       "       [ 0.3223938 ],\n",
       "       [ 0.38996139],\n",
       "       [ 0.40733591],\n",
       "       [ 0.3803089 ],\n",
       "       [ 0.48648646],\n",
       "       [ 0.47104248],\n",
       "       [ 0.48455599],\n",
       "       [ 0.61389959],\n",
       "       [ 0.69691122],\n",
       "       [ 0.70077217],\n",
       "       [ 0.57915056],\n",
       "       [ 0.46911195],\n",
       "       [ 0.38803086],\n",
       "       [ 0.44787642],\n",
       "       [ 0.45559844],\n",
       "       [ 0.41312739],\n",
       "       [ 0.49806949],\n",
       "       [ 0.47104248],\n",
       "       [ 0.49999997],\n",
       "       [ 0.63899612],\n",
       "       [ 0.74710429],\n",
       "       [ 0.7741313 ],\n",
       "       [ 0.57915056],\n",
       "       [ 0.49227801],\n",
       "       [ 0.39768341],\n",
       "       [ 0.44980696],\n",
       "       [ 0.49420848],\n",
       "       [ 0.45945945],\n",
       "       [ 0.58301163],\n",
       "       [ 0.56370652],\n",
       "       [ 0.61003864],\n",
       "       [ 0.71042466],\n",
       "       [ 0.85714293],\n",
       "       [ 0.87837839],\n",
       "       [ 0.69305015],\n",
       "       [ 0.5849421 ],\n",
       "       [ 0.49806949],\n",
       "       [ 0.58108103],\n",
       "       [ 0.60424709],\n",
       "       [ 0.55405402],\n",
       "       [ 0.60810804],\n",
       "       [ 0.6891892 ],\n",
       "       [ 0.71042466],\n",
       "       [ 0.83204639],\n",
       "       [ 1.        ],\n",
       "       [ 0.96911204],\n",
       "       [ 0.77992272],\n",
       "       [ 0.6891892 ],\n",
       "       [ 0.55212355],\n",
       "       [ 0.63320458]], dtype=float32)"
      ]
     },
     "execution_count": 8,
     "metadata": {},
     "output_type": "execute_result"
    }
   ],
   "source": [
    "# normalize the dataset\n",
    "scaler = MinMaxScaler(feature_range=(0,1))\n",
    "dataset = scaler.fit_transform(dataset)\n",
    "dataset"
   ]
  },
  {
   "cell_type": "markdown",
   "metadata": {
    "deletable": true,
    "editable": true
   },
   "source": [
    "Set up dataset for both training and corss validation. \n",
    "With time series data, the sequence of values is important. Asimple method that we can use is to split the ordered dataset into train and test dataset. The code below calculates the index of the split point and separates the data into the training datasets with 67% of the observations that we can use to train our model, leaving the remaining 33% for testing the model. "
   ]
  },
  {
   "cell_type": "code",
   "execution_count": 9,
   "metadata": {
    "collapsed": false,
    "deletable": true,
    "editable": true
   },
   "outputs": [
    {
     "name": "stdout",
     "output_type": "stream",
     "text": [
      "96 96 48 48\n"
     ]
    }
   ],
   "source": [
    "# split into train and test sets\n",
    "train_size = int(len(dataset)*0.67)\n",
    "test_size = len(dataset) - train_size\n",
    "train, test = dataset[0:train_size, :], dataset[train_size:len(dataset), :]\n",
    "print(len(train), train_size, len(test), test_size)"
   ]
  },
  {
   "cell_type": "markdown",
   "metadata": {
    "deletable": true,
    "editable": true
   },
   "source": [
    "### define a function to create a new dataset, as described above\n",
    "The function takes two arguments: the **dataset**, which is a Numpy array that we want to convert into a dataset, and the **look_back**, which is the number of previous time steps to use as input variables to predict the next time period - in this case defaulted to 1. "
   ]
  },
  {
   "cell_type": "code",
   "execution_count": 13,
   "metadata": {
    "collapsed": true,
    "deletable": true,
    "editable": true
   },
   "outputs": [],
   "source": [
    "# convert an array of values into a dataset matrix\n",
    "def create_dataset(dataset, look_back=1):\n",
    "    dataX, dataY = [], []\n",
    "    for i in range(len(dataset) - look_back - 1):\n",
    "        a = dataset[i:(i+look_back), 0]\n",
    "        dataX.append(a)  # note, after process, dataX has 1 more dim than dataY\n",
    "        dataY.append(dataset[i+look_back, 0])  # for example, dataX add i(th), dataY add (i+1)(th)\n",
    "    return numpy.array(dataX), numpy.array(dataY) "
   ]
  },
  {
   "cell_type": "code",
   "execution_count": 17,
   "metadata": {
    "collapsed": false,
    "deletable": true,
    "editable": true
   },
   "outputs": [
    {
     "name": "stdout",
     "output_type": "stream",
     "text": [
      "X       Y\n",
      "112.0 118.0\n",
      "118.0 132.0\n",
      "132.0 129.0\n",
      "129.0 121.0\n",
      "121.0 135.0\n"
     ]
    }
   ],
   "source": [
    "#Let's do qucik check on unnormalized form\n",
    "d = pandas.read_csv('international-airline-passengers.csv', usecols=[1], engine='python', skipfooter=3)\n",
    "d = d.values.astype('float32')\n",
    "X, Y = create_dataset(d)\n",
    "print(\"X       Y\")\n",
    "for i in range(5):\n",
    "    print(X[i][0], Y[i])"
   ]
  },
  {
   "cell_type": "code",
   "execution_count": 18,
   "metadata": {
    "collapsed": true,
    "deletable": true,
    "editable": true
   },
   "outputs": [],
   "source": [
    "look_back = 1\n",
    "trainX, trainY = create_dataset(train, look_back)\n",
    "testX, testY = create_dataset(test, look_back)"
   ]
  },
  {
   "cell_type": "markdown",
   "metadata": {
    "deletable": true,
    "editable": true
   },
   "source": [
    "### The LSTM network expects the input data(X) to be provided with a specific array structure in the form of : *[samples, time_steps, features]*\n",
    "currently our data is in the form: **[samples, features]** and we are framing the problem as one time step for each sample. We can transform the prepared train and test input data into the expected structure using **numpy.reshape()** as follows:"
   ]
  },
  {
   "cell_type": "code",
   "execution_count": 20,
   "metadata": {
    "collapsed": false,
    "deletable": true,
    "editable": true
   },
   "outputs": [],
   "source": [
    "# reshape input to be [samples, time_steps, features]\n",
    "trainX = numpy.reshape(trainX, (trainX.shape[0], 1, trainX.shape[1]))\n",
    "testX = numpy.reshape(testX, (testX.shape[0], 1, testX.shape[1]))"
   ]
  },
  {
   "cell_type": "markdown",
   "metadata": {
    "deletable": true,
    "editable": true
   },
   "source": [
    "## we are now ready to design and fit our LSTM network for this problem.\n",
    "The network has a visible layer with 1 input, a hidden layer with 4 LSTM blocks or neurons, and an ouptut layer that makes a single value prediction. The default sigmoid activation function is used for the LSTM blocks. the network is trained for 100 epochs and a batch size of 1 is used. \n",
    "\n",
    "#### More neurons means more representational capacity at that layer. More layers means more opportunity to abstract hierarchical features.\n",
    "#### The number of neurons (LSTM call them blocks) and layers to use is a matter of trial and error (tuning)."
   ]
  },
  {
   "cell_type": "code",
   "execution_count": 22,
   "metadata": {
    "collapsed": false,
    "deletable": true,
    "editable": true
   },
   "outputs": [
    {
     "name": "stdout",
     "output_type": "stream",
     "text": [
      "____________________________________________________________________________________________________\n",
      "Layer (type)                     Output Shape          Param #     Connected to                     \n",
      "====================================================================================================\n",
      "lstm_2 (LSTM)                    (None, 4)             96          lstm_input_2[0][0]               \n",
      "____________________________________________________________________________________________________\n",
      "dense_2 (Dense)                  (None, 1)             5           lstm_2[0][0]                     \n",
      "====================================================================================================\n",
      "Total params: 101\n",
      "Trainable params: 101\n",
      "Non-trainable params: 0\n",
      "____________________________________________________________________________________________________\n"
     ]
    }
   ],
   "source": [
    "# create and fit the LSTM network\n",
    "model = Sequential()\n",
    "model.add(LSTM(4, input_dim=look_back))\n",
    "model.add(Dense(1))\n",
    "model.compile(loss='mean_squared_error', optimizer='adam')\n",
    "model.summary()\n",
    "model."
   ]
  },
  {
   "cell_type": "code",
   "execution_count": 23,
   "metadata": {
    "collapsed": false,
    "deletable": true,
    "editable": true
   },
   "outputs": [
    {
     "name": "stdout",
     "output_type": "stream",
     "text": [
      "Epoch 1/100\n",
      "0s - loss: 0.0390\n",
      "Epoch 2/100\n",
      "0s - loss: 0.0182\n",
      "Epoch 3/100\n",
      "0s - loss: 0.0129\n",
      "Epoch 4/100\n",
      "0s - loss: 0.0113\n",
      "Epoch 5/100\n",
      "0s - loss: 0.0102\n",
      "Epoch 6/100\n",
      "0s - loss: 0.0092\n",
      "Epoch 7/100\n",
      "0s - loss: 0.0081\n",
      "Epoch 8/100\n",
      "0s - loss: 0.0071\n",
      "Epoch 9/100\n",
      "0s - loss: 0.0062\n",
      "Epoch 10/100\n",
      "0s - loss: 0.0053\n",
      "Epoch 11/100\n",
      "0s - loss: 0.0045\n",
      "Epoch 12/100\n",
      "0s - loss: 0.0039\n",
      "Epoch 13/100\n",
      "0s - loss: 0.0033\n",
      "Epoch 14/100\n",
      "0s - loss: 0.0029\n",
      "Epoch 15/100\n",
      "0s - loss: 0.0025\n",
      "Epoch 16/100\n",
      "0s - loss: 0.0024\n",
      "Epoch 17/100\n",
      "0s - loss: 0.0022\n",
      "Epoch 18/100\n",
      "0s - loss: 0.0021\n",
      "Epoch 19/100\n",
      "0s - loss: 0.0020\n",
      "Epoch 20/100\n",
      "0s - loss: 0.0020\n",
      "Epoch 21/100\n",
      "0s - loss: 0.0020\n",
      "Epoch 22/100\n",
      "0s - loss: 0.0020\n",
      "Epoch 23/100\n",
      "0s - loss: 0.0020\n",
      "Epoch 24/100\n",
      "0s - loss: 0.0019\n",
      "Epoch 25/100\n",
      "0s - loss: 0.0020\n",
      "Epoch 26/100\n",
      "0s - loss: 0.0020\n",
      "Epoch 27/100\n",
      "0s - loss: 0.0020\n",
      "Epoch 28/100\n",
      "0s - loss: 0.0020\n",
      "Epoch 29/100\n",
      "0s - loss: 0.0020\n",
      "Epoch 30/100\n",
      "0s - loss: 0.0020\n",
      "Epoch 31/100\n",
      "0s - loss: 0.0019\n",
      "Epoch 32/100\n",
      "0s - loss: 0.0020\n",
      "Epoch 33/100\n",
      "0s - loss: 0.0020\n",
      "Epoch 34/100\n",
      "0s - loss: 0.0020\n",
      "Epoch 35/100\n",
      "0s - loss: 0.0020\n",
      "Epoch 36/100\n",
      "0s - loss: 0.0020\n",
      "Epoch 37/100\n",
      "0s - loss: 0.0020\n",
      "Epoch 38/100\n",
      "0s - loss: 0.0020\n",
      "Epoch 39/100\n",
      "0s - loss: 0.0020\n",
      "Epoch 40/100\n",
      "0s - loss: 0.0020\n",
      "Epoch 41/100\n",
      "0s - loss: 0.0020\n",
      "Epoch 42/100\n",
      "0s - loss: 0.0019\n",
      "Epoch 43/100\n",
      "0s - loss: 0.0020\n",
      "Epoch 44/100\n",
      "0s - loss: 0.0020\n",
      "Epoch 45/100\n",
      "0s - loss: 0.0020\n",
      "Epoch 46/100\n",
      "0s - loss: 0.0020\n",
      "Epoch 47/100\n",
      "0s - loss: 0.0020\n",
      "Epoch 48/100\n",
      "0s - loss: 0.0020\n",
      "Epoch 49/100\n",
      "0s - loss: 0.0020\n",
      "Epoch 50/100\n",
      "0s - loss: 0.0020\n",
      "Epoch 51/100\n",
      "0s - loss: 0.0020\n",
      "Epoch 52/100\n",
      "0s - loss: 0.0019\n",
      "Epoch 53/100\n",
      "0s - loss: 0.0020\n",
      "Epoch 54/100\n",
      "0s - loss: 0.0020\n",
      "Epoch 55/100\n",
      "0s - loss: 0.0020\n",
      "Epoch 56/100\n",
      "0s - loss: 0.0020\n",
      "Epoch 57/100\n",
      "0s - loss: 0.0020\n",
      "Epoch 58/100\n",
      "0s - loss: 0.0019\n",
      "Epoch 59/100\n",
      "0s - loss: 0.0020\n",
      "Epoch 60/100\n",
      "0s - loss: 0.0020\n",
      "Epoch 61/100\n",
      "0s - loss: 0.0020\n",
      "Epoch 62/100\n",
      "0s - loss: 0.0020\n",
      "Epoch 63/100\n",
      "0s - loss: 0.0020\n",
      "Epoch 64/100\n",
      "0s - loss: 0.0020\n",
      "Epoch 65/100\n",
      "0s - loss: 0.0019\n",
      "Epoch 66/100\n",
      "0s - loss: 0.0020\n",
      "Epoch 67/100\n",
      "0s - loss: 0.0020\n",
      "Epoch 68/100\n",
      "0s - loss: 0.0020\n",
      "Epoch 69/100\n",
      "0s - loss: 0.0020\n",
      "Epoch 70/100\n",
      "0s - loss: 0.0020\n",
      "Epoch 71/100\n",
      "0s - loss: 0.0019\n",
      "Epoch 72/100\n",
      "0s - loss: 0.0020\n",
      "Epoch 73/100\n",
      "0s - loss: 0.0020\n",
      "Epoch 74/100\n",
      "0s - loss: 0.0020\n",
      "Epoch 75/100\n",
      "0s - loss: 0.0019\n",
      "Epoch 76/100\n",
      "0s - loss: 0.0020\n",
      "Epoch 77/100\n",
      "0s - loss: 0.0019\n",
      "Epoch 78/100\n",
      "0s - loss: 0.0019\n",
      "Epoch 79/100\n",
      "0s - loss: 0.0021\n",
      "Epoch 80/100\n",
      "0s - loss: 0.0020\n",
      "Epoch 81/100\n",
      "0s - loss: 0.0020\n",
      "Epoch 82/100\n",
      "0s - loss: 0.0019\n",
      "Epoch 83/100\n",
      "0s - loss: 0.0020\n",
      "Epoch 84/100\n",
      "0s - loss: 0.0020\n",
      "Epoch 85/100\n",
      "0s - loss: 0.0020\n",
      "Epoch 86/100\n",
      "0s - loss: 0.0020\n",
      "Epoch 87/100\n",
      "0s - loss: 0.0019\n",
      "Epoch 88/100\n",
      "0s - loss: 0.0020\n",
      "Epoch 89/100\n",
      "0s - loss: 0.0020\n",
      "Epoch 90/100\n",
      "0s - loss: 0.0020\n",
      "Epoch 91/100\n",
      "0s - loss: 0.0020\n",
      "Epoch 92/100\n",
      "0s - loss: 0.0019\n",
      "Epoch 93/100\n",
      "0s - loss: 0.0019\n",
      "Epoch 94/100\n",
      "0s - loss: 0.0020\n",
      "Epoch 95/100\n",
      "0s - loss: 0.0020\n",
      "Epoch 96/100\n",
      "0s - loss: 0.0021\n",
      "Epoch 97/100\n",
      "0s - loss: 0.0020\n",
      "Epoch 98/100\n",
      "0s - loss: 0.0020\n",
      "Epoch 99/100\n",
      "0s - loss: 0.0020\n",
      "Epoch 100/100\n",
      "0s - loss: 0.0019\n"
     ]
    },
    {
     "data": {
      "text/plain": [
       "<keras.callbacks.History at 0x7f64f19c5cf8>"
      ]
     },
     "execution_count": 23,
     "metadata": {},
     "output_type": "execute_result"
    }
   ],
   "source": [
    "model.fit(trainX, trainY, nb_epoch=100, batch_size=1, verbose=2)"
   ]
  },
  {
   "cell_type": "markdown",
   "metadata": {
    "deletable": true,
    "editable": true
   },
   "source": [
    "### Estimate the performance of the model\n",
    "Once the model is fit, we can estimate the performance of model on the train and test datasets. This will give us a point of comparison for new models. \n",
    "Note that we invert the predictions before calculating error scores to ensure the performance is reported in the same units as the original data(thousands of passergers per month)"
   ]
  },
  {
   "cell_type": "code",
   "execution_count": 24,
   "metadata": {
    "collapsed": false,
    "deletable": true,
    "editable": true
   },
   "outputs": [
    {
     "name": "stdout",
     "output_type": "stream",
     "text": [
      "Train Score: 23.19 RMSE\n",
      "Test Score: 50.57 RMSE\n"
     ]
    }
   ],
   "source": [
    "# make predictions\n",
    "trainPredict = model.predict(trainX)\n",
    "testPredict = model.predict(testX)\n",
    "# invert predictions\n",
    "trainPredict = scaler.inverse_transform(trainPredict)\n",
    "trainY = scaler.inverse_transform([trainY])\n",
    "testPredict = scaler.inverse_transform(testPredict)\n",
    "testY = scaler.inverse_transform([testY])\n",
    "# calculate root mean squared error\n",
    "trainScore = math.sqrt(mean_squared_error(trainY[0], trainPredict[:,0]))\n",
    "print('Train Score: %.2f RMSE' % (trainScore))\n",
    "testScore = math.sqrt(mean_squared_error(testY[0], testPredict[:,0]))\n",
    "print('Test Score: %.2f RMSE' % (testScore))"
   ]
  },
  {
   "cell_type": "markdown",
   "metadata": {
    "deletable": true,
    "editable": true
   },
   "source": [
    "Finally, we can generate predictions using the model for both the train and test dataset to get a visual indication of the skill of the model.\n",
    "\n",
    "Because of how the dataset was prepared, we must shift the predictions so that they align on the x-axis with the original dataset. Once prepared, the data is plotted, showing the original dataset in blue, the predictions for the training dataset in green, and the predictions on the unseen test dataset in red."
   ]
  },
  {
   "cell_type": "code",
   "execution_count": 25,
   "metadata": {
    "collapsed": false,
    "deletable": true,
    "editable": true
   },
   "outputs": [
    {
     "data": {
      "image/png": "[encoded data removed]",
      "text/plain": [
       "<matplotlib.figure.Figure at 0x7f64f1800240>"
      ]
     },
     "metadata": {},
     "output_type": "display_data"
    }
   ],
   "source": [
    "# shift train predictions for plotting\n",
    "trainPredictPlot = numpy.empty_like(dataset)\n",
    "trainPredictPlot[:, :] = numpy.nan\n",
    "trainPredictPlot[look_back:len(trainPredict)+look_back, :] = trainPredict\n",
    "# shift test predictions for plotting\n",
    "testPredictPlot = numpy.empty_like(dataset)\n",
    "testPredictPlot[:, :] = numpy.nan\n",
    "testPredictPlot[len(trainPredict)+(look_back*2)+1:len(dataset)-1, :] = testPredict\n",
    "# plot baseline and predictions\n",
    "plt.plot(scaler.inverse_transform(dataset))\n",
    "plt.plot(trainPredictPlot)\n",
    "plt.plot(testPredictPlot)\n",
    "plt.show()"
   ]
  },
  {
   "cell_type": "code",
   "execution_count": null,
   "metadata": {
    "collapsed": true,
    "deletable": true,
    "editable": true
   },
   "outputs": [],
   "source": []
  }
 ],
 "metadata": {
  "kernelspec": {
   "display_name": "Python 3",
   "language": "python",
   "name": "python3"
  },
  "language_info": {
   "codemirror_mode": {
    "name": "ipython",
    "version": 3
   },
   "file_extension": ".py",
   "mimetype": "text/x-python",
   "name": "python",
   "nbconvert_exporter": "python",
   "pygments_lexer": "ipython3",
   "version": "3.5.2"
  }
 },
 "nbformat": 4,
 "nbformat_minor": 2
}
