{
 "cells": [
  {
   "cell_type": "markdown",
   "metadata": {
    "deletable": true,
    "editable": true
   },
   "source": [
    "# LSTM for Regression Using the Window Method\n",
    "\n",
    "### We can also phrase the problem so that multiple, recent time steps can be used to make the prediction for the next time step. \n",
    "\n",
    "This is called a window, and the size of the window is parameter that can be tuned for each problem. \n",
    "\n",
    "For example, given the current time (t) we want to predict the value at the next time in the sequence(t+1), we can use the current time (t), as well as the two prior time (t-1 and t-2) as input variables. \n",
    "\n",
    "When phrased as a regression problem, the input variables are t-2, t-1, t and the output variable is t+1. \n",
    "\n",
    "The create_Dataset() allows us to create this formulation of the time series problem by using the look_back argument as 3. "
   ]
  },
  {
   "cell_type": "code",
   "execution_count": 1,
   "metadata": {
    "collapsed": false,
    "deletable": true,
    "editable": true
   },
   "outputs": [
    {
     "name": "stderr",
     "output_type": "stream",
     "text": [
      "Using TensorFlow backend.\n"
     ]
    }
   ],
   "source": [
    "import numpy\n",
    "import matplotlib.pyplot as plt\n",
    "import pandas\n",
    "import math\n",
    "from keras.models import Sequential\n",
    "from keras.layers import Dense\n",
    "from keras.layers import LSTM\n",
    "from sklearn.preprocessing import MinMaxScaler\n",
    "from sklearn.metrics import mean_squared_error"
   ]
  },
  {
   "cell_type": "code",
   "execution_count": 2,
   "metadata": {
    "collapsed": true,
    "deletable": true,
    "editable": true
   },
   "outputs": [],
   "source": [
    "# fix random seed for reproducibility\n",
    "numpy.random.seed(7)\n",
    "# load the dataset\n",
    "dataframe = pandas.read_csv('international-airline-passengers.csv', usecols=[1], engine='python', skipfooter=3)\n",
    "dataset = dataframe.values\n",
    "dataset = dataset.astype('float32')"
   ]
  },
  {
   "cell_type": "code",
   "execution_count": 3,
   "metadata": {
    "collapsed": true,
    "deletable": true,
    "editable": true
   },
   "outputs": [],
   "source": [
    "# convert an array of values into a dataset matrix\n",
    "def create_dataset(dataset, look_back=1):\n",
    "\tdataX, dataY = [], []\n",
    "\tfor i in range(len(dataset)-look_back-1):\n",
    "\t\ta = dataset[i:(i+look_back), 0]\n",
    "\t\tdataX.append(a)\n",
    "\t\tdataY.append(dataset[i + look_back, 0])\n",
    "\treturn numpy.array(dataX), numpy.array(dataY)"
   ]
  },
  {
   "cell_type": "code",
   "execution_count": 6,
   "metadata": {
    "collapsed": false,
    "deletable": true,
    "editable": true
   },
   "outputs": [
    {
     "name": "stdout",
     "output_type": "stream",
     "text": [
      "[ 112.  118.  132.] 129.0\n",
      "[ 118.  132.  129.] 121.0\n",
      "[ 132.  129.  121.] 135.0\n",
      "[ 129.  121.  135.] 148.0\n",
      "[ 121.  135.  148.] 148.0\n"
     ]
    }
   ],
   "source": [
    "X, Y = create_dataset(dataset, look_back=3)\n",
    "\n",
    "for i in range(5):\n",
    "    print(X[i], Y[i])"
   ]
  },
  {
   "cell_type": "markdown",
   "metadata": {
    "deletable": true,
    "editable": true
   },
   "source": [
    "To understand the format of X and dataset"
   ]
  },
  {
   "cell_type": "code",
   "execution_count": 9,
   "metadata": {
    "collapsed": false,
    "deletable": true,
    "editable": true
   },
   "outputs": [
    {
     "name": "stdout",
     "output_type": "stream",
     "text": [
      "[[ 118.]\n",
      " [ 132.]]\n",
      "[ 118.  132.]\n"
     ]
    }
   ],
   "source": [
    "print(x.shape)\n",
    "print(dataset[1:3])\n",
    "print(dataset[1:3,0])"
   ]
  },
  {
   "cell_type": "markdown",
   "metadata": {
    "deletable": true,
    "editable": true
   },
   "source": [
    "#### We do the normal data prepration"
   ]
  },
  {
   "cell_type": "code",
   "execution_count": 11,
   "metadata": {
    "collapsed": true,
    "deletable": true,
    "editable": true
   },
   "outputs": [],
   "source": [
    "# fix random seed for reproducibility\n",
    "numpy.random.seed(7)\n",
    "# load the dataset\n",
    "dataframe = pandas.read_csv('international-airline-passengers.csv', usecols=[1], engine='python', skipfooter=3)\n",
    "dataset = dataframe.values\n",
    "dataset = dataset.astype('float32')\n",
    "# normalize the dataset\n",
    "scaler = MinMaxScaler(feature_range=(0, 1))\n",
    "dataset = scaler.fit_transform(dataset)\n",
    "# split into train and test sets\n",
    "train_size = int(len(dataset) * 0.67)\n",
    "test_size = len(dataset) - train_size\n",
    "train, test = dataset[0:train_size,:], dataset[train_size:len(dataset),:]\n",
    "# reshape into X=t and Y=t+1\n",
    "look_back = 3\n",
    "trainX, trainY = create_dataset(train, look_back)\n",
    "testX, testY = create_dataset(test, look_back)\n",
    "# reshape input to be [samples, time steps, features]\n",
    "trainX = numpy.reshape(trainX, (trainX.shape[0], 1, trainX.shape[1]))\n",
    "testX = numpy.reshape(testX, (testX.shape[0], 1, testX.shape[1]))"
   ]
  },
  {
   "cell_type": "markdown",
   "metadata": {
    "deletable": true,
    "editable": true
   },
   "source": [
    "#### LSTM network model is defined as same as normal regression\n",
    "#### 4 neurons and 1 output, input_dim is 3, defined by look_back"
   ]
  },
  {
   "cell_type": "code",
   "execution_count": 13,
   "metadata": {
    "collapsed": false,
    "deletable": true,
    "editable": true
   },
   "outputs": [
    {
     "name": "stdout",
     "output_type": "stream",
     "text": [
      "____________________________________________________________________________________________________\n",
      "Layer (type)                     Output Shape          Param #     Connected to                     \n",
      "====================================================================================================\n",
      "lstm_2 (LSTM)                    (None, 4)             128         lstm_input_2[0][0]               \n",
      "____________________________________________________________________________________________________\n",
      "dense_2 (Dense)                  (None, 1)             5           lstm_2[0][0]                     \n",
      "====================================================================================================\n",
      "Total params: 133\n",
      "Trainable params: 133\n",
      "Non-trainable params: 0\n",
      "____________________________________________________________________________________________________\n"
     ]
    }
   ],
   "source": [
    "# create and fit the LSTM network\n",
    "model = Sequential()\n",
    "model.add(LSTM(4, input_dim=look_back))\n",
    "model.add(Dense(1))\n",
    "model.compile(loss='mean_squared_error', optimizer='adam')\n",
    "model.summary()"
   ]
  },
  {
   "cell_type": "markdown",
   "metadata": {
    "deletable": true,
    "editable": true
   },
   "source": [
    "Train....."
   ]
  },
  {
   "cell_type": "code",
   "execution_count": 14,
   "metadata": {
    "collapsed": false,
    "deletable": true,
    "editable": true
   },
   "outputs": [
    {
     "name": "stdout",
     "output_type": "stream",
     "text": [
      "Epoch 1/100\n",
      "0s - loss: 0.0347\n",
      "Epoch 2/100\n",
      "0s - loss: 0.0127\n",
      "Epoch 3/100\n",
      "0s - loss: 0.0095\n",
      "Epoch 4/100\n",
      "0s - loss: 0.0080\n",
      "Epoch 5/100\n",
      "0s - loss: 0.0067\n",
      "Epoch 6/100\n",
      "0s - loss: 0.0055\n",
      "Epoch 7/100\n",
      "0s - loss: 0.0045\n",
      "Epoch 8/100\n",
      "0s - loss: 0.0038\n",
      "Epoch 9/100\n",
      "0s - loss: 0.0032\n",
      "Epoch 10/100\n",
      "0s - loss: 0.0029\n",
      "Epoch 11/100\n",
      "0s - loss: 0.0027\n",
      "Epoch 12/100\n",
      "0s - loss: 0.0026\n",
      "Epoch 13/100\n",
      "0s - loss: 0.0024\n",
      "Epoch 14/100\n",
      "0s - loss: 0.0024\n",
      "Epoch 15/100\n",
      "0s - loss: 0.0024\n",
      "Epoch 16/100\n",
      "0s - loss: 0.0024\n",
      "Epoch 17/100\n",
      "0s - loss: 0.0023\n",
      "Epoch 18/100\n",
      "0s - loss: 0.0023\n",
      "Epoch 19/100\n",
      "0s - loss: 0.0023\n",
      "Epoch 20/100\n",
      "0s - loss: 0.0024\n",
      "Epoch 21/100\n",
      "0s - loss: 0.0023\n",
      "Epoch 22/100\n",
      "0s - loss: 0.0023\n",
      "Epoch 23/100\n",
      "0s - loss: 0.0024\n",
      "Epoch 24/100\n",
      "0s - loss: 0.0023\n",
      "Epoch 25/100\n",
      "0s - loss: 0.0023\n",
      "Epoch 26/100\n",
      "0s - loss: 0.0023\n",
      "Epoch 27/100\n",
      "0s - loss: 0.0023\n",
      "Epoch 28/100\n",
      "0s - loss: 0.0023\n",
      "Epoch 29/100\n",
      "0s - loss: 0.0023\n",
      "Epoch 30/100\n",
      "0s - loss: 0.0023\n",
      "Epoch 31/100\n",
      "0s - loss: 0.0022\n",
      "Epoch 32/100\n",
      "0s - loss: 0.0023\n",
      "Epoch 33/100\n",
      "0s - loss: 0.0022\n",
      "Epoch 34/100\n",
      "0s - loss: 0.0022\n",
      "Epoch 35/100\n",
      "0s - loss: 0.0022\n",
      "Epoch 36/100\n",
      "0s - loss: 0.0022\n",
      "Epoch 37/100\n",
      "0s - loss: 0.0022\n",
      "Epoch 38/100\n",
      "0s - loss: 0.0022\n",
      "Epoch 39/100\n",
      "0s - loss: 0.0022\n",
      "Epoch 40/100\n",
      "0s - loss: 0.0022\n",
      "Epoch 41/100\n",
      "0s - loss: 0.0023\n",
      "Epoch 42/100\n",
      "0s - loss: 0.0021\n",
      "Epoch 43/100\n",
      "0s - loss: 0.0023\n",
      "Epoch 44/100\n",
      "0s - loss: 0.0022\n",
      "Epoch 45/100\n",
      "0s - loss: 0.0022\n",
      "Epoch 46/100\n",
      "0s - loss: 0.0021\n",
      "Epoch 47/100\n",
      "0s - loss: 0.0022\n",
      "Epoch 48/100\n",
      "0s - loss: 0.0021\n",
      "Epoch 49/100\n",
      "0s - loss: 0.0022\n",
      "Epoch 50/100\n",
      "0s - loss: 0.0023\n",
      "Epoch 51/100\n",
      "0s - loss: 0.0022\n",
      "Epoch 52/100\n",
      "0s - loss: 0.0022\n",
      "Epoch 53/100\n",
      "0s - loss: 0.0021\n",
      "Epoch 54/100\n",
      "0s - loss: 0.0022\n",
      "Epoch 55/100\n",
      "0s - loss: 0.0021\n",
      "Epoch 56/100\n",
      "0s - loss: 0.0021\n",
      "Epoch 57/100\n",
      "0s - loss: 0.0022\n",
      "Epoch 58/100\n",
      "0s - loss: 0.0022\n",
      "Epoch 59/100\n",
      "0s - loss: 0.0022\n",
      "Epoch 60/100\n",
      "0s - loss: 0.0021\n",
      "Epoch 61/100\n",
      "0s - loss: 0.0022\n",
      "Epoch 62/100\n",
      "0s - loss: 0.0021\n",
      "Epoch 63/100\n",
      "0s - loss: 0.0021\n",
      "Epoch 64/100\n",
      "0s - loss: 0.0021\n",
      "Epoch 65/100\n",
      "0s - loss: 0.0021\n",
      "Epoch 66/100\n",
      "0s - loss: 0.0021\n",
      "Epoch 67/100\n",
      "0s - loss: 0.0021\n",
      "Epoch 68/100\n",
      "0s - loss: 0.0021\n",
      "Epoch 69/100\n",
      "0s - loss: 0.0021\n",
      "Epoch 70/100\n",
      "0s - loss: 0.0021\n",
      "Epoch 71/100\n",
      "0s - loss: 0.0022\n",
      "Epoch 72/100\n",
      "0s - loss: 0.0021\n",
      "Epoch 73/100\n",
      "0s - loss: 0.0021\n",
      "Epoch 74/100\n",
      "0s - loss: 0.0021\n",
      "Epoch 75/100\n",
      "0s - loss: 0.0021\n",
      "Epoch 76/100\n",
      "0s - loss: 0.0021\n",
      "Epoch 77/100\n",
      "0s - loss: 0.0021\n",
      "Epoch 78/100\n",
      "0s - loss: 0.0021\n",
      "Epoch 79/100\n",
      "0s - loss: 0.0021\n",
      "Epoch 80/100\n",
      "0s - loss: 0.0021\n",
      "Epoch 81/100\n",
      "0s - loss: 0.0022\n",
      "Epoch 82/100\n",
      "0s - loss: 0.0020\n",
      "Epoch 83/100\n",
      "0s - loss: 0.0021\n",
      "Epoch 84/100\n",
      "0s - loss: 0.0021\n",
      "Epoch 85/100\n",
      "0s - loss: 0.0021\n",
      "Epoch 86/100\n",
      "0s - loss: 0.0021\n",
      "Epoch 87/100\n",
      "0s - loss: 0.0021\n",
      "Epoch 88/100\n",
      "0s - loss: 0.0020\n",
      "Epoch 89/100\n",
      "0s - loss: 0.0020\n",
      "Epoch 90/100\n",
      "0s - loss: 0.0021\n",
      "Epoch 91/100\n",
      "0s - loss: 0.0020\n",
      "Epoch 92/100\n",
      "0s - loss: 0.0021\n",
      "Epoch 93/100\n",
      "0s - loss: 0.0020\n",
      "Epoch 94/100\n",
      "0s - loss: 0.0020\n",
      "Epoch 95/100\n",
      "0s - loss: 0.0020\n",
      "Epoch 96/100\n",
      "0s - loss: 0.0021\n",
      "Epoch 97/100\n",
      "0s - loss: 0.0020\n",
      "Epoch 98/100\n",
      "0s - loss: 0.0020\n",
      "Epoch 99/100\n",
      "0s - loss: 0.0020\n",
      "Epoch 100/100\n",
      "0s - loss: 0.0020\n"
     ]
    },
    {
     "data": {
      "text/plain": [
       "<keras.callbacks.History at 0x7f0fa71d8128>"
      ]
     },
     "execution_count": 14,
     "metadata": {},
     "output_type": "execute_result"
    }
   ],
   "source": [
    "model.fit(trainX, trainY, nb_epoch=100, batch_size=1, verbose=2)"
   ]
  },
  {
   "cell_type": "code",
   "execution_count": 15,
   "metadata": {
    "collapsed": false,
    "deletable": true,
    "editable": true
   },
   "outputs": [
    {
     "name": "stdout",
     "output_type": "stream",
     "text": [
      "Train Score: 22.74 RMSE\n",
      "Test Score: 61.13 RMSE\n"
     ]
    }
   ],
   "source": [
    "# make predicitions \n",
    "\n",
    "trainPredict = model.predict(trainX)\n",
    "testPredict = model.predict(testX)\n",
    "# invert predictions\n",
    "trainPredict = scaler.inverse_transform(trainPredict)\n",
    "trainY = scaler.inverse_transform([trainY])\n",
    "testPredict = scaler.inverse_transform(testPredict)\n",
    "testY = scaler.inverse_transform([testY])\n",
    "# calculate root mean squared error\n",
    "trainScore = math.sqrt(mean_squared_error(trainY[0], trainPredict[:,0]))\n",
    "print('Train Score: %.2f RMSE' % (trainScore))\n",
    "testScore = math.sqrt(mean_squared_error(testY[0], testPredict[:,0]))\n",
    "print('Test Score: %.2f RMSE' % (testScore))"
   ]
  },
  {
   "cell_type": "code",
   "execution_count": 16,
   "metadata": {
    "collapsed": false,
    "deletable": true,
    "editable": true
   },
   "outputs": [
    {
     "data": {
      "image/png": "[encoded data removed]",
      "text/plain": [
       "<matplotlib.figure.Figure at 0x7f0fa70159e8>"
      ]
     },
     "metadata": {},
     "output_type": "display_data"
    }
   ],
   "source": [
    "# shift train predictions for plotting\n",
    "trainPredictPlot = numpy.empty_like(dataset)\n",
    "trainPredictPlot[:, :] = numpy.nan\n",
    "trainPredictPlot[look_back:len(trainPredict)+look_back, :] = trainPredict\n",
    "# shift test predictions for plotting\n",
    "testPredictPlot = numpy.empty_like(dataset)\n",
    "testPredictPlot[:, :] = numpy.nan\n",
    "testPredictPlot[len(trainPredict)+(look_back*2)+1:len(dataset)-1, :] = testPredict\n",
    "# plot baseline and predictions\n",
    "plt.plot(scaler.inverse_transform(dataset))\n",
    "plt.plot(trainPredictPlot)\n",
    "plt.plot(testPredictPlot)\n",
    "plt.show()"
   ]
  },
  {
   "cell_type": "code",
   "execution_count": null,
   "metadata": {
    "collapsed": true,
    "deletable": true,
    "editable": true
   },
   "outputs": [],
   "source": []
  }
 ],
 "metadata": {
  "kernelspec": {
   "display_name": "Python 3",
   "language": "python",
   "name": "python3"
  },
  "language_info": {
   "codemirror_mode": {
    "name": "ipython",
    "version": 3
   },
   "file_extension": ".py",
   "mimetype": "text/x-python",
   "name": "python",
   "nbconvert_exporter": "python",
   "pygments_lexer": "ipython3",
   "version": "3.5.2"
  }
 },
 "nbformat": 4,
 "nbformat_minor": 2
}
